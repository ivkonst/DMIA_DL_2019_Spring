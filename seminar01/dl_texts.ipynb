{
 "cells": [
  {
   "cell_type": "code",
   "execution_count": 1,
   "metadata": {
    "ExecuteTime": {
     "end_time": "2019-02-16T14:12:06.962770Z",
     "start_time": "2019-02-16T14:12:04.698900Z"
    }
   },
   "outputs": [
    {
     "name": "stderr",
     "output_type": "stream",
     "text": [
      "Using TensorFlow backend.\n"
     ]
    }
   ],
   "source": [
    "import os\n",
    "import heapq\n",
    "\n",
    "import ssl\n",
    "import tqdm\n",
    "import numpy as np\n",
    "import matplotlib.pyplot as plt\n",
    "import tensorflow as tf\n",
    "\n",
    "from IPython.display import SVG, Image\n",
    "from sklearn.metrics import accuracy_score\n",
    "from sklearn.linear_model import LogisticRegression\n",
    "from sklearn.feature_extraction.text import CountVectorizer, TfidfTransformer\n",
    "from keras.datasets import imdb\n",
    "from keras.models import Sequential\n",
    "from keras.layers import Dense, Dropout, Embedding, GlobalAveragePooling1D\n",
    "from keras.optimizers import Adam\n",
    "from keras.utils.vis_utils import model_to_dot\n",
    "from keras.preprocessing.sequence import pad_sequences"
   ]
  },
  {
   "cell_type": "code",
   "execution_count": 2,
   "metadata": {
    "ExecuteTime": {
     "end_time": "2019-02-16T14:12:07.756295Z",
     "start_time": "2019-02-16T14:12:07.748231Z"
    }
   },
   "outputs": [],
   "source": [
    "ssl._create_default_https_context = ssl._create_unverified_context"
   ]
  },
  {
   "cell_type": "markdown",
   "metadata": {},
   "source": [
    "# Скачаем данные и посмотрим на них"
   ]
  },
  {
   "cell_type": "markdown",
   "metadata": {},
   "source": [
    "Мы будем использовать imdb, подробнее про него можно прочитать тут: https://keras.io/datasets/."
   ]
  },
  {
   "cell_type": "code",
   "execution_count": 3,
   "metadata": {
    "ExecuteTime": {
     "end_time": "2019-02-16T14:12:15.833491Z",
     "start_time": "2019-02-16T14:12:09.199988Z"
    }
   },
   "outputs": [
    {
     "name": "stdout",
     "output_type": "stream",
     "text": [
      "Downloading data from https://s3.amazonaws.com/text-datasets/imdb.npz\n",
      "17465344/17464789 [==============================] - 8s 0us/step\n",
      "Downloading data from https://s3.amazonaws.com/text-datasets/imdb_word_index.json\n",
      "1646592/1641221 [==============================] - 1s 1us/step\n"
     ]
    }
   ],
   "source": [
    "vocab_size = 10000\n",
    "\n",
    "(x_train, y_train), (x_test, y_test) = imdb.load_data(path=\"imdb.npz\",\n",
    "                                                      num_words=vocab_size,\n",
    "                                                      skip_top=0,\n",
    "                                                      maxlen=None,\n",
    "                                                      seed=113,\n",
    "                                                      start_char=1,\n",
    "                                                      oov_char=2,\n",
    "                                                      index_from=3)\n",
    "\n",
    "word_2_index = imdb.get_word_index()"
   ]
  },
  {
   "cell_type": "code",
   "execution_count": 4,
   "metadata": {
    "ExecuteTime": {
     "end_time": "2019-02-16T14:12:39.494234Z",
     "start_time": "2019-02-16T14:12:39.447781Z"
    }
   },
   "outputs": [],
   "source": [
    "word_2_index = {k:(v+3) for k,v in word_2_index.items()} \n",
    "word_2_index[\"<PAD>\"] = 0\n",
    "word_2_index[\"<START>\"] = 1\n",
    "word_2_index[\"<UNK>\"] = 2\n",
    "word_2_index[\"<UNUSED>\"] = 3\n",
    "\n",
    "index_2_word = {value: key for key, value in word_2_index.items()}"
   ]
  },
  {
   "cell_type": "code",
   "execution_count": 5,
   "metadata": {
    "ExecuteTime": {
     "end_time": "2019-02-16T14:12:40.326338Z",
     "start_time": "2019-02-16T14:12:40.319148Z"
    }
   },
   "outputs": [
    {
     "name": "stdout",
     "output_type": "stream",
     "text": [
      "Index \"100\" to word = could\n",
      "Word \"could\" to index = 100\n"
     ]
    }
   ],
   "source": [
    "print('Index \"100\" to word = {}'.format(index_2_word[100]))\n",
    "print('Word \"could\" to index = {}'.format(word_2_index['could']))"
   ]
  },
  {
   "cell_type": "code",
   "execution_count": 6,
   "metadata": {
    "ExecuteTime": {
     "end_time": "2019-02-16T14:12:40.706216Z",
     "start_time": "2019-02-16T14:12:40.701862Z"
    }
   },
   "outputs": [],
   "source": [
    "def decode_review(text):\n",
    "    return ' '.join([index_2_word.get(i, '?') for i in text])"
   ]
  },
  {
   "cell_type": "code",
   "execution_count": 7,
   "metadata": {
    "ExecuteTime": {
     "end_time": "2019-02-16T14:12:41.599608Z",
     "start_time": "2019-02-16T14:12:41.591536Z"
    }
   },
   "outputs": [
    {
     "name": "stdout",
     "output_type": "stream",
     "text": [
      "<START> this film was just brilliant casting location scenery story direction everyone's really suited the part they played and you could just imagine being there robert <UNK> is an amazing actor and now the same being director <UNK> father came from the same scottish island as myself so i loved the fact there was a real connection with this film the witty remarks throughout the film were great it was just brilliant so much that i bought the film as soon as it was released for <UNK> and would recommend it to everyone to watch and the fly fishing was amazing really cried at the end it was so sad and you know what they say if you cry at a film it must have been good and this definitely was also <UNK> to the two little boy's that played the <UNK> of norman and paul they were just brilliant children are often left out of the <UNK> list i think because the stars that play them all grown up are such a big profile for the whole film but these children are amazing and should be praised for what they have done don't you think the whole story was so lovely because it was true and was someone's life after all that was shared with us all\n",
      "\n",
      "Label = 1\n"
     ]
    }
   ],
   "source": [
    "print(decode_review(x_train[0]))\n",
    "print('')\n",
    "print('Label = {}'.format(y_train[0]))"
   ]
  },
  {
   "cell_type": "code",
   "execution_count": 18,
   "metadata": {
    "ExecuteTime": {
     "end_time": "2019-02-16T14:12:45.840916Z",
     "start_time": "2019-02-16T14:12:41.823566Z"
    }
   },
   "outputs": [
    {
     "name": "stdout",
     "output_type": "stream",
     "text": [
      "Decoded texts for train set\n"
     ]
    },
    {
     "data": {
      "application/vnd.jupyter.widget-view+json": {
       "model_id": "b1160648df0c4854ad47483bd77f0412",
       "version_major": 2,
       "version_minor": 0
      },
      "text/plain": [
       "HBox(children=(IntProgress(value=0, max=25000), HTML(value='')))"
      ]
     },
     "metadata": {},
     "output_type": "display_data"
    },
    {
     "name": "stdout",
     "output_type": "stream",
     "text": [
      "\n",
      "Decoded texts for test set\n"
     ]
    },
    {
     "data": {
      "application/vnd.jupyter.widget-view+json": {
       "model_id": "395298556a7d4cf2ab6d5890525138fb",
       "version_major": 2,
       "version_minor": 0
      },
      "text/plain": [
       "HBox(children=(IntProgress(value=0, max=25000), HTML(value='')))"
      ]
     },
     "metadata": {},
     "output_type": "display_data"
    },
    {
     "name": "stdout",
     "output_type": "stream",
     "text": [
      "\n"
     ]
    }
   ],
   "source": [
    "print('Decoded texts for train set')\n",
    "x_train_decoded = []\n",
    "for review in tqdm.tqdm_notebook(x_train):\n",
    "    decoded_review = decode_review(review)\n",
    "    x_train_decoded.append(decoded_review)\n",
    "\n",
    "print('Decoded texts for test set')\n",
    "x_test_decoded = []\n",
    "for review in tqdm.tqdm_notebook(x_test):\n",
    "    decoded_review = decode_review(review)\n",
    "    x_test_decoded.append(decoded_review)"
   ]
  },
  {
   "cell_type": "code",
   "execution_count": 19,
   "metadata": {},
   "outputs": [
    {
     "data": {
      "text/plain": [
       "25000"
      ]
     },
     "execution_count": 19,
     "metadata": {},
     "output_type": "execute_result"
    }
   ],
   "source": [
    "len(x_train_decoded)"
   ]
  },
  {
   "cell_type": "code",
   "execution_count": 21,
   "metadata": {},
   "outputs": [
    {
     "data": {
      "text/plain": [
       "\"<START> this film was just brilliant casting location scenery story direction everyone's really suited the part they played and you could just imagine being there robert <UNK> is an amazing actor and now the same being director <UNK> father came from the same scottish island as myself so i loved the fact there was a real connection with this film the witty remarks throughout the film were great it was just brilliant so much that i bought the film as soon as it was released for <UNK> and would recommend it to everyone to watch and the fly fishing was amazing really cried at the end it was so sad and you know what they say if you cry at a film it must have been good and this definitely was also <UNK> to the two little boy's that played the <UNK> of norman and paul they were just brilliant children are often left out of the <UNK> list i think because the stars that play them all grown up are such a big profile for the whole film but these children are amazing and should be praised for what they have done don't you think the whole story was so lovely because it was true and was someone's life after all that was shared with us all\""
      ]
     },
     "execution_count": 21,
     "metadata": {},
     "output_type": "execute_result"
    }
   ],
   "source": [
    "x_train_decoded[0]"
   ]
  },
  {
   "cell_type": "markdown",
   "metadata": {},
   "source": [
    "# Классическая обработка текстов"
   ]
  },
  {
   "cell_type": "markdown",
   "metadata": {},
   "source": [
    "Для векторизации текстов воспользуемся CountVectorizer, он представляет документ как мешок слов. Можно всячески варировать извлечение признаков (убирать редкие слова, убирать частые слова, убирать слова общей лексики, брать биграмы и т.д.)"
   ]
  },
  {
   "cell_type": "code",
   "execution_count": 22,
   "metadata": {
    "ExecuteTime": {
     "end_time": "2019-02-16T14:14:14.660041Z",
     "start_time": "2019-02-16T14:14:14.652021Z"
    }
   },
   "outputs": [
    {
     "data": {
      "image/png": "[encoded data removed]",
      "text/plain": [
       "<IPython.core.display.Image object>"
      ]
     },
     "execution_count": 22,
     "metadata": {
      "image/png": {
       "width": 600
      }
     },
     "output_type": "execute_result"
    }
   ],
   "source": [
    "Image('pics/bag_of_words.png', width=600)"
   ]
  },
  {
   "cell_type": "code",
   "execution_count": 23,
   "metadata": {
    "ExecuteTime": {
     "end_time": "2019-02-16T14:14:17.072388Z",
     "start_time": "2019-02-16T14:14:17.068656Z"
    }
   },
   "outputs": [],
   "source": [
    "count_vectorizer = CountVectorizer(min_df=1,\n",
    "                                   ngram_range=(1, 1))"
   ]
  },
  {
   "cell_type": "markdown",
   "metadata": {},
   "source": [
    "Мы будем работать с эффективным представлением матриц \"Compressed Sparse Row Format\" (CSR). Почитать о формате можно здесь: https://en.wikipedia.org/wiki/Sparse_matrix#Compressed_sparse_row_(CSR,_CRS_or_Yale_format)"
   ]
  },
  {
   "cell_type": "code",
   "execution_count": 24,
   "metadata": {
    "ExecuteTime": {
     "end_time": "2019-02-16T14:14:28.761007Z",
     "start_time": "2019-02-16T14:14:18.115908Z"
    }
   },
   "outputs": [],
   "source": [
    "x_train_bow = count_vectorizer.fit_transform(x_train_decoded)\n",
    "x_test_bow = count_vectorizer.transform(x_test_decoded)"
   ]
  },
  {
   "cell_type": "code",
   "execution_count": 25,
   "metadata": {
    "ExecuteTime": {
     "end_time": "2019-02-16T14:14:29.498077Z",
     "start_time": "2019-02-16T14:14:29.492823Z"
    }
   },
   "outputs": [
    {
     "name": "stdout",
     "output_type": "stream",
     "text": [
      "Shape of train sample in BoW format (25000, 9772)\n",
      "Shape of test sample in BoW format (25000, 9772)\n"
     ]
    }
   ],
   "source": [
    "print('Shape of train sample in BoW format', x_train_bow.shape)\n",
    "print('Shape of test sample in BoW format', x_test_bow.shape)"
   ]
  },
  {
   "cell_type": "code",
   "execution_count": 26,
   "metadata": {
    "ExecuteTime": {
     "end_time": "2019-02-16T14:14:30.201853Z",
     "start_time": "2019-02-16T14:14:30.195957Z"
    }
   },
   "outputs": [],
   "source": [
    "index_2_word_logreg = {\n",
    "    v: k\n",
    "    for k, v in count_vectorizer.vocabulary_.items()\n",
    "}"
   ]
  },
  {
   "cell_type": "markdown",
   "metadata": {},
   "source": [
    "### Обучим логистическую регрессию предсказывать тональность отзыва на признаках Bag-of-Words"
   ]
  },
  {
   "cell_type": "code",
   "execution_count": 29,
   "metadata": {
    "ExecuteTime": {
     "end_time": "2019-02-16T14:17:34.048709Z",
     "start_time": "2019-02-16T14:17:34.044252Z"
    }
   },
   "outputs": [],
   "source": [
    "model_logreg = LogisticRegression(solver='saga', multi_class='auto')"
   ]
  },
  {
   "cell_type": "code",
   "execution_count": 30,
   "metadata": {
    "ExecuteTime": {
     "end_time": "2019-02-16T14:17:40.277712Z",
     "start_time": "2019-02-16T14:17:34.825644Z"
    }
   },
   "outputs": [
    {
     "name": "stderr",
     "output_type": "stream",
     "text": [
      "/Users/konstantinivanov/ENV/lib/python3.6/site-packages/sklearn/linear_model/sag.py:334: ConvergenceWarning: The max_iter was reached which means the coef_ did not converge\n",
      "  \"the coef_ did not converge\", ConvergenceWarning)\n"
     ]
    },
    {
     "data": {
      "text/plain": [
       "LogisticRegression(C=1.0, class_weight=None, dual=False, fit_intercept=True,\n",
       "          intercept_scaling=1, max_iter=100, multi_class='auto',\n",
       "          n_jobs=None, penalty='l2', random_state=None, solver='saga',\n",
       "          tol=0.0001, verbose=0, warm_start=False)"
      ]
     },
     "execution_count": 30,
     "metadata": {},
     "output_type": "execute_result"
    }
   ],
   "source": [
    "model_logreg.fit(x_train_bow, y_train)"
   ]
  },
  {
   "cell_type": "markdown",
   "metadata": {},
   "source": [
    "###  Попробуем проинтерпретировать коэффициенты модели"
   ]
  },
  {
   "cell_type": "code",
   "execution_count": 31,
   "metadata": {
    "ExecuteTime": {
     "end_time": "2019-02-16T14:18:25.385618Z",
     "start_time": "2019-02-16T14:18:25.355422Z"
    }
   },
   "outputs": [
    {
     "name": "stdout",
     "output_type": "stream",
     "text": [
      "Negative\n",
      "bad, worst, awful, waste, boring, poor, nothing, terrible, no, script\n",
      "Positive\n",
      "great, excellent, best, wonderful, perfect, well, love, fun, amazing, still\n"
     ]
    }
   ],
   "source": [
    "W = model_logreg.coef_.shape[1]\n",
    "NUM_WORDS = 10\n",
    "class_2_function = {'Negative': heapq.nsmallest, 'Positive': heapq.nlargest}\n",
    "\n",
    "for category, function in class_2_function.items():\n",
    "    topic_words = [\n",
    "        index_2_word_logreg[w_num]\n",
    "        for w_num in function(NUM_WORDS, range(W),\n",
    "                              key=lambda w: model_logreg.coef_[0, w])\n",
    "    ]\n",
    "    print(category)\n",
    "    print(', '.join(topic_words))"
   ]
  },
  {
   "cell_type": "markdown",
   "metadata": {},
   "source": [
    "### Оценим качество"
   ]
  },
  {
   "cell_type": "code",
   "execution_count": 32,
   "metadata": {
    "ExecuteTime": {
     "end_time": "2019-02-16T14:18:27.128004Z",
     "start_time": "2019-02-16T14:18:27.093711Z"
    }
   },
   "outputs": [],
   "source": [
    "preds_logreg = model_logreg.predict(x_test_bow)"
   ]
  },
  {
   "cell_type": "code",
   "execution_count": 33,
   "metadata": {
    "ExecuteTime": {
     "end_time": "2019-02-16T14:18:27.986316Z",
     "start_time": "2019-02-16T14:18:27.945351Z"
    }
   },
   "outputs": [
    {
     "name": "stdout",
     "output_type": "stream",
     "text": [
      "Train accuracy 0.86964\n",
      "Test accuracy 0.854\n"
     ]
    }
   ],
   "source": [
    "print('Train accuracy', accuracy_score(\n",
    "    model_logreg.predict(x_train_bow),\n",
    "    y_train\n",
    "))\n",
    "print('Test accuracy', accuracy_score(preds_logreg, y_test))"
   ]
  },
  {
   "cell_type": "markdown",
   "metadata": {},
   "source": [
    "### Попробуем TF-IDF"
   ]
  },
  {
   "cell_type": "code",
   "execution_count": 34,
   "metadata": {
    "ExecuteTime": {
     "end_time": "2019-02-16T14:18:37.164010Z",
     "start_time": "2019-02-16T14:18:37.154763Z"
    }
   },
   "outputs": [
    {
     "data": {
      "image/png": "[encoded data removed]",
      "text/plain": [
       "<IPython.core.display.Image object>"
      ]
     },
     "execution_count": 34,
     "metadata": {},
     "output_type": "execute_result"
    }
   ],
   "source": [
    "Image('./pics/tfidf.png')"
   ]
  },
  {
   "cell_type": "markdown",
   "metadata": {},
   "source": [
    "Подробнее про tf-idf можно прочитать здесь: https://ru.wikipedia.org/wiki/TF-IDF"
   ]
  },
  {
   "cell_type": "code",
   "execution_count": 35,
   "metadata": {
    "ExecuteTime": {
     "end_time": "2019-02-16T14:18:43.438988Z",
     "start_time": "2019-02-16T14:18:43.433708Z"
    }
   },
   "outputs": [],
   "source": [
    "tf_idf_transformer = TfidfTransformer()"
   ]
  },
  {
   "cell_type": "code",
   "execution_count": 36,
   "metadata": {
    "ExecuteTime": {
     "end_time": "2019-02-16T14:18:44.767660Z",
     "start_time": "2019-02-16T14:18:44.537013Z"
    }
   },
   "outputs": [],
   "source": [
    "x_train_tfidf = tf_idf_transformer.fit_transform(x_train_bow)\n",
    "x_test_tfidf = tf_idf_transformer.transform(x_test_bow)"
   ]
  },
  {
   "cell_type": "markdown",
   "metadata": {},
   "source": [
    "### Обучим логистическую регрессию предсказывать тональность отзыва на признаках TF-IDF"
   ]
  },
  {
   "cell_type": "code",
   "execution_count": 37,
   "metadata": {
    "ExecuteTime": {
     "end_time": "2019-02-16T14:19:00.435939Z",
     "start_time": "2019-02-16T14:19:00.430215Z"
    }
   },
   "outputs": [],
   "source": [
    "model_logreg_tfidf = LogisticRegression(solver='saga', multi_class='auto')"
   ]
  },
  {
   "cell_type": "code",
   "execution_count": 38,
   "metadata": {
    "ExecuteTime": {
     "end_time": "2019-02-16T14:19:02.573110Z",
     "start_time": "2019-02-16T14:19:01.380332Z"
    }
   },
   "outputs": [
    {
     "data": {
      "text/plain": [
       "LogisticRegression(C=1.0, class_weight=None, dual=False, fit_intercept=True,\n",
       "          intercept_scaling=1, max_iter=100, multi_class='auto',\n",
       "          n_jobs=None, penalty='l2', random_state=None, solver='saga',\n",
       "          tol=0.0001, verbose=0, warm_start=False)"
      ]
     },
     "execution_count": 38,
     "metadata": {},
     "output_type": "execute_result"
    }
   ],
   "source": [
    "model_logreg_tfidf.fit(x_train_tfidf, y_train)"
   ]
  },
  {
   "cell_type": "code",
   "execution_count": 39,
   "metadata": {
    "ExecuteTime": {
     "end_time": "2019-02-16T14:19:03.379473Z",
     "start_time": "2019-02-16T14:19:03.366246Z"
    }
   },
   "outputs": [],
   "source": [
    "preds_logreg_tfidf = model_logreg_tfidf.predict(x_test_tfidf)"
   ]
  },
  {
   "cell_type": "markdown",
   "metadata": {},
   "source": [
    "### Оценим качество"
   ]
  },
  {
   "cell_type": "code",
   "execution_count": 40,
   "metadata": {
    "ExecuteTime": {
     "end_time": "2019-02-16T14:19:04.792720Z",
     "start_time": "2019-02-16T14:19:04.770366Z"
    }
   },
   "outputs": [
    {
     "name": "stdout",
     "output_type": "stream",
     "text": [
      "Train accuracy 0.92132\n",
      "Test accuracy 0.88404\n"
     ]
    }
   ],
   "source": [
    "print('Train accuracy', accuracy_score(\n",
    "    model_logreg_tfidf.predict(x_train_tfidf),\n",
    "    y_train\n",
    "))\n",
    "print('Test accuracy', accuracy_score(preds_logreg_tfidf, y_test))"
   ]
  },
  {
   "cell_type": "markdown",
   "metadata": {},
   "source": [
    "# Глубокое обучение в обработке текстов"
   ]
  },
  {
   "cell_type": "markdown",
   "metadata": {},
   "source": [
    "Код частично взят из примеров TensorFlow: https://www.tensorflow.org/tutorials/keras/basic_text_classification"
   ]
  },
  {
   "cell_type": "markdown",
   "metadata": {},
   "source": [
    "Нужно привести все тексты к одной длине, чтобы их можно было объединять в батчи для статичных графов. Неплохое сравнение динамических и статичных графов можно найти тут: https://stackoverflow.com/questions/46154189/what-is-the-difference-of-static-computational-graphs-in-tensorflow-and-dynamic."
   ]
  },
  {
   "cell_type": "code",
   "execution_count": 42,
   "metadata": {},
   "outputs": [
    {
     "data": {
      "text/plain": [
       "\"<START> this film was just brilliant casting location scenery story direction everyone's really suited the part they played and you could just imagine being there robert <UNK> is an amazing actor and now the same being director <UNK> father came from the same scottish island as myself so i loved the fact there was a real connection with this film the witty remarks throughout the film were great it was just brilliant so much that i bought the film as soon as it was released for <UNK> and would recommend it to everyone to watch and the fly fishing was amazing really cried at the end it was so sad and you know what they say if you cry at a film it must have been good and this definitely was also <UNK> to the two little boy's that played the <UNK> of norman and paul they were just brilliant children are often left out of the <UNK> list i think because the stars that play them all grown up are such a big profile for the whole film but these children are amazing and should be praised for what they have done don't you think the whole story was so lovely because it was true and was someone's life after all that was shared with us all\""
      ]
     },
     "execution_count": 42,
     "metadata": {},
     "output_type": "execute_result"
    }
   ],
   "source": [
    "x_train_decoded[0]"
   ]
  },
  {
   "cell_type": "code",
   "execution_count": 43,
   "metadata": {},
   "outputs": [
    {
     "data": {
      "text/plain": [
       "0"
      ]
     },
     "execution_count": 43,
     "metadata": {},
     "output_type": "execute_result"
    }
   ],
   "source": [
    "word_2_index[\"<PAD>\"]"
   ]
  },
  {
   "cell_type": "code",
   "execution_count": 44,
   "metadata": {
    "ExecuteTime": {
     "end_time": "2019-02-16T14:19:09.408501Z",
     "start_time": "2019-02-16T14:19:08.224247Z"
    }
   },
   "outputs": [],
   "source": [
    "x_train_pad = pad_sequences(x_train,\n",
    "                            value=word_2_index[\"<PAD>\"],\n",
    "                            padding='post',\n",
    "                            maxlen=256)\n",
    "\n",
    "x_test_pad = pad_sequences(x_test,\n",
    "                           value=word_2_index[\"<PAD>\"],\n",
    "                           padding='post',\n",
    "                           maxlen=256)"
   ]
  },
  {
   "cell_type": "markdown",
   "metadata": {},
   "source": [
    "### Определим модель и обучим ее"
   ]
  },
  {
   "cell_type": "markdown",
   "metadata": {},
   "source": [
    "Модель будет очень простой, мы вставим Embedding слой, который будет давать каждому слову в тексте сжатую репрезентацию, то есть будет переводить его из размерности vocab_size в размерность 16. Далее GlobalAveragePooling1D слой будет усреднять репрезентации всех слов в тексте. На основе усредненной репрезентации маленький перцептрон будет проводить классификацию."
   ]
  },
  {
   "cell_type": "code",
   "execution_count": 45,
   "metadata": {
    "ExecuteTime": {
     "end_time": "2019-02-16T14:19:21.896698Z",
     "start_time": "2019-02-16T14:19:21.887496Z"
    },
    "scrolled": true
   },
   "outputs": [
    {
     "data": {
      "image/png": "[encoded data removed]",
      "text/plain": [
       "<IPython.core.display.Image object>"
      ]
     },
     "execution_count": 45,
     "metadata": {},
     "output_type": "execute_result"
    }
   ],
   "source": [
    "Image('pics/matrix_mult_w_one_hot.png')"
   ]
  },
  {
   "cell_type": "markdown",
   "metadata": {},
   "source": [
    "Установим сиды, чтобы получать воспроизводимые результаты."
   ]
  },
  {
   "cell_type": "code",
   "execution_count": 46,
   "metadata": {
    "ExecuteTime": {
     "end_time": "2019-02-16T14:19:22.962208Z",
     "start_time": "2019-02-16T14:19:22.939150Z"
    }
   },
   "outputs": [],
   "source": [
    "np.random.seed(2)\n",
    "tf.set_random_seed(2)"
   ]
  },
  {
   "cell_type": "code",
   "execution_count": 47,
   "metadata": {
    "ExecuteTime": {
     "end_time": "2019-02-16T14:19:24.076418Z",
     "start_time": "2019-02-16T14:19:23.964891Z"
    }
   },
   "outputs": [],
   "source": [
    "model_dl = Sequential()\n",
    "model_dl.add(Embedding(vocab_size, 16))\n",
    "model_dl.add(GlobalAveragePooling1D())\n",
    "model_dl.add(Dense(units=16, activation='relu'))\n",
    "model_dl.add(Dropout(0.5))\n",
    "model_dl.add(Dense(units=1, activation='sigmoid'))"
   ]
  },
  {
   "cell_type": "code",
   "execution_count": 48,
   "metadata": {
    "ExecuteTime": {
     "end_time": "2019-02-16T14:19:25.118170Z",
     "start_time": "2019-02-16T14:19:25.105367Z"
    }
   },
   "outputs": [
    {
     "name": "stdout",
     "output_type": "stream",
     "text": [
      "_________________________________________________________________\n",
      "Layer (type)                 Output Shape              Param #   \n",
      "=================================================================\n",
      "embedding_1 (Embedding)      (None, None, 16)          160000    \n",
      "_________________________________________________________________\n",
      "global_average_pooling1d_1 ( (None, 16)                0         \n",
      "_________________________________________________________________\n",
      "dense_1 (Dense)              (None, 16)                272       \n",
      "_________________________________________________________________\n",
      "dropout_1 (Dropout)          (None, 16)                0         \n",
      "_________________________________________________________________\n",
      "dense_2 (Dense)              (None, 1)                 17        \n",
      "=================================================================\n",
      "Total params: 160,289\n",
      "Trainable params: 160,289\n",
      "Non-trainable params: 0\n",
      "_________________________________________________________________\n"
     ]
    }
   ],
   "source": [
    "model_dl.summary()"
   ]
  },
  {
   "cell_type": "code",
   "execution_count": null,
   "metadata": {
    "ExecuteTime": {
     "end_time": "2019-02-16T14:19:26.728511Z",
     "start_time": "2019-02-16T14:19:26.579735Z"
    }
   },
   "outputs": [],
   "source": [
    "SVG(model_to_dot(model_dl).create(prog='dot', format='svg'))"
   ]
  },
  {
   "cell_type": "code",
   "execution_count": 49,
   "metadata": {
    "ExecuteTime": {
     "end_time": "2019-02-16T14:19:29.251530Z",
     "start_time": "2019-02-16T14:19:29.064742Z"
    }
   },
   "outputs": [],
   "source": [
    "opt = Adam(lr=0.001)\n",
    "\n",
    "model_dl.compile(optimizer=opt,\n",
    "                 loss='binary_crossentropy',\n",
    "                 metrics=['accuracy'])"
   ]
  },
  {
   "cell_type": "code",
   "execution_count": 50,
   "metadata": {
    "ExecuteTime": {
     "end_time": "2019-02-16T14:20:08.338842Z",
     "start_time": "2019-02-16T14:19:31.239098Z"
    },
    "scrolled": true
   },
   "outputs": [
    {
     "name": "stdout",
     "output_type": "stream",
     "text": [
      "Train on 25000 samples, validate on 25000 samples\n",
      "Epoch 1/20\n",
      "25000/25000 [==============================] - 2s 66us/step - loss: 0.6909 - acc: 0.5697 - val_loss: 0.6870 - val_acc: 0.6778\n",
      "Epoch 2/20\n",
      "25000/25000 [==============================] - 1s 52us/step - loss: 0.6790 - acc: 0.6797 - val_loss: 0.6686 - val_acc: 0.7624\n",
      "Epoch 3/20\n",
      "25000/25000 [==============================] - 1s 47us/step - loss: 0.6491 - acc: 0.7293 - val_loss: 0.6273 - val_acc: 0.7876\n",
      "Epoch 4/20\n",
      "25000/25000 [==============================] - 1s 49us/step - loss: 0.5950 - acc: 0.7676 - val_loss: 0.5650 - val_acc: 0.8120\n",
      "Epoch 5/20\n",
      "25000/25000 [==============================] - 1s 49us/step - loss: 0.5314 - acc: 0.7976 - val_loss: 0.4999 - val_acc: 0.8332\n",
      "Epoch 6/20\n",
      "25000/25000 [==============================] - 1s 59us/step - loss: 0.4694 - acc: 0.8263 - val_loss: 0.4433 - val_acc: 0.8490\n",
      "Epoch 7/20\n",
      "25000/25000 [==============================] - 1s 55us/step - loss: 0.4210 - acc: 0.8428 - val_loss: 0.4017 - val_acc: 0.8573\n",
      "Epoch 8/20\n",
      "25000/25000 [==============================] - 1s 50us/step - loss: 0.3852 - acc: 0.8576 - val_loss: 0.3713 - val_acc: 0.8639\n",
      "Epoch 9/20\n",
      "25000/25000 [==============================] - 1s 57us/step - loss: 0.3549 - acc: 0.8661 - val_loss: 0.3500 - val_acc: 0.8678\n",
      "Epoch 10/20\n",
      "25000/25000 [==============================] - 1s 54us/step - loss: 0.3313 - acc: 0.8762 - val_loss: 0.3328 - val_acc: 0.8718\n",
      "Epoch 11/20\n",
      "25000/25000 [==============================] - 1s 52us/step - loss: 0.3116 - acc: 0.8858 - val_loss: 0.3202 - val_acc: 0.8742\n",
      "Epoch 12/20\n",
      "25000/25000 [==============================] - 1s 53us/step - loss: 0.2954 - acc: 0.8932 - val_loss: 0.3122 - val_acc: 0.8756\n",
      "Epoch 13/20\n",
      "25000/25000 [==============================] - 1s 50us/step - loss: 0.2820 - acc: 0.8982 - val_loss: 0.3027 - val_acc: 0.8783\n",
      "Epoch 14/20\n",
      "25000/25000 [==============================] - 1s 52us/step - loss: 0.2662 - acc: 0.9033 - val_loss: 0.3005 - val_acc: 0.8788\n",
      "Epoch 15/20\n",
      "25000/25000 [==============================] - 1s 57us/step - loss: 0.2577 - acc: 0.9084 - val_loss: 0.2928 - val_acc: 0.8816\n",
      "Epoch 16/20\n",
      "25000/25000 [==============================] - 1s 52us/step - loss: 0.2475 - acc: 0.9137 - val_loss: 0.2904 - val_acc: 0.8821\n",
      "Epoch 17/20\n",
      "25000/25000 [==============================] - 1s 50us/step - loss: 0.2393 - acc: 0.9172 - val_loss: 0.2885 - val_acc: 0.8835\n",
      "Epoch 18/20\n",
      "25000/25000 [==============================] - 1s 48us/step - loss: 0.2297 - acc: 0.9213 - val_loss: 0.2861 - val_acc: 0.8826\n",
      "Epoch 19/20\n",
      "25000/25000 [==============================] - 1s 51us/step - loss: 0.2200 - acc: 0.9241 - val_loss: 0.2860 - val_acc: 0.8828\n",
      "Epoch 20/20\n",
      "25000/25000 [==============================] - 1s 51us/step - loss: 0.2148 - acc: 0.9286 - val_loss: 0.2862 - val_acc: 0.8832\n"
     ]
    }
   ],
   "source": [
    "history = model_dl.fit(x=x_train_pad,\n",
    "                       y=y_train,\n",
    "                       epochs=20,\n",
    "                       batch_size=512,\n",
    "                       validation_data=(x_test_pad, y_test),\n",
    "                       verbose=1)"
   ]
  },
  {
   "cell_type": "code",
   "execution_count": 51,
   "metadata": {
    "ExecuteTime": {
     "end_time": "2019-02-16T14:20:11.380867Z",
     "start_time": "2019-02-16T14:20:10.582968Z"
    }
   },
   "outputs": [
    {
     "name": "stdout",
     "output_type": "stream",
     "text": [
      "25000/25000 [==============================] - 0s 12us/step\n",
      "25000/25000 [==============================] - 0s 10us/step\n"
     ]
    }
   ],
   "source": [
    "preds_dl = model_dl.predict(x_test_pad, verbose=1, batch_size=512)\n",
    "preds_dl_train = model_dl.predict(x_train_pad, verbose=1, batch_size=512)"
   ]
  },
  {
   "cell_type": "markdown",
   "metadata": {},
   "source": [
    "### Оценим качество"
   ]
  },
  {
   "cell_type": "code",
   "execution_count": 52,
   "metadata": {
    "ExecuteTime": {
     "end_time": "2019-02-16T14:20:13.726281Z",
     "start_time": "2019-02-16T14:20:13.682798Z"
    }
   },
   "outputs": [
    {
     "name": "stdout",
     "output_type": "stream",
     "text": [
      "Train accuracy 0.94388\n",
      "Test accuracy 0.8832\n"
     ]
    }
   ],
   "source": [
    "print('Train accuracy', accuracy_score(y_train, (preds_dl_train>0.5)*1.))\n",
    "print('Test accuracy', accuracy_score(y_test, (preds_dl>0.5)*1.))"
   ]
  },
  {
   "cell_type": "markdown",
   "metadata": {},
   "source": [
    "### Посмотрим на динамику обучения"
   ]
  },
  {
   "cell_type": "code",
   "execution_count": 53,
   "metadata": {
    "ExecuteTime": {
     "end_time": "2019-02-16T14:20:37.756857Z",
     "start_time": "2019-02-16T14:20:37.320736Z"
    }
   },
   "outputs": [
    {
     "data": {
      "image/png": "[encoded data removed]",
      "text/plain": [
       "<Figure size 1080x540 with 1 Axes>"
      ]
     },
     "metadata": {
      "needs_background": "light"
     },
     "output_type": "display_data"
    }
   ],
   "source": [
    "fig = plt.figure(figsize=(15,7.5))\n",
    "\n",
    "epochs = range(1, len(history.history['acc']) + 1)\n",
    "\n",
    "plt.plot(epochs, history.history['acc'], 'r', label='Training loss')\n",
    "plt.plot(epochs, history.history['val_acc'], 'b', label='Validation loss')\n",
    "plt.title('Training and validation loss')\n",
    "plt.xlabel('Epochs')\n",
    "plt.ylabel('Loss')\n",
    "plt.legend()\n",
    "\n",
    "plt.show()"
   ]
  },
  {
   "cell_type": "code",
   "execution_count": null,
   "metadata": {},
   "outputs": [],
   "source": []
  }
 ],
 "metadata": {
  "kernelspec": {
   "display_name": "dmia_dl_2019_spring",
   "language": "python",
   "name": "dmia_dl_2019_spring"
  },
  "language_info": {
   "codemirror_mode": {
    "name": "ipython",
    "version": 3
   },
   "file_extension": ".py",
   "mimetype": "text/x-python",
   "name": "python",
   "nbconvert_exporter": "python",
   "pygments_lexer": "ipython3",
   "version": "3.6.5"
  },
  "varInspector": {
   "cols": {
    "lenName": 16,
    "lenType": 16,
    "lenVar": 40
   },
   "kernels_config": {
    "python": {
     "delete_cmd_postfix": "",
     "delete_cmd_prefix": "del ",
     "library": "var_list.py",
     "varRefreshCmd": "print(var_dic_list())"
    },
    "r": {
     "delete_cmd_postfix": ") ",
     "delete_cmd_prefix": "rm(",
     "library": "var_list.r",
     "varRefreshCmd": "cat(var_dic_list()) "
    }
   },
   "position": {
    "height": "145.88235473632812px",
    "left": "1128.878662109375px",
    "right": "27.00367546081543px",
    "top": "109.98161315917969px",
    "width": "350px"
   },
   "types_to_exclude": [
    "module",
    "function",
    "builtin_function_or_method",
    "instance",
    "_Feature"
   ],
   "window_display": false
  }
 },
 "nbformat": 4,
 "nbformat_minor": 2
}
