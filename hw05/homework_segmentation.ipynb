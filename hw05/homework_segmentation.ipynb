{
 "cells": [
  {
   "cell_type": "markdown",
   "metadata": {},
   "source": [
    "# Data Mining in Action, Deep Leaning\n",
    "\n",
    "## Семантическая сегментация\n",
    "\n",
    "В этом задании мы будем практиковаться в семантической сегментации. Реализуем популярную сеть для решения задачи семантической сегментации U-net, обучим её на синтетическом датасете с фигурами, оценим качество модели.\n",
    "\n",
    "В рамках задания нужно получить ответы на вопросы в этом ipynb блокноте и внести их в [гугл-форму](https://forms.gle/mVUGJQRVSSHDsveG7). Перед тем как приступать к выполнению задания не забудьте выполнить команду ```pip install -r <path_to_rep_requirements.txt>``` для того, чтобы в вашем виртуальном окружении были установлены правильные версии python пакетов."
   ]
  },
  {
   "cell_type": "code",
   "execution_count": null,
   "metadata": {
    "ExecuteTime": {
     "end_time": "2019-03-31T20:58:16.716963Z",
     "start_time": "2019-03-31T20:58:15.920901Z"
    }
   },
   "outputs": [],
   "source": [
    "%pylab inline\n",
    "\n",
    "import torch\n",
    "import torchvision\n",
    "from torch.utils.data import Dataset\n",
    "from PIL import ImageDraw, Image"
   ]
  },
  {
   "cell_type": "markdown",
   "metadata": {},
   "source": [
    "Для создания моделей-сетей в `pytorch` удобно создавать класс, наследуясь от `torch.nn.Module`. В `torch.nn` содержася стандартные \"кирпичики\" для моделей (например, различные виды слоёв). В `torch.optim` содержатся оптимизаторы, а в `torch.utils.data` много необходимых сущеностей для работы с данными."
   ]
  },
  {
   "cell_type": "markdown",
   "metadata": {},
   "source": [
    "### Построение сети"
   ]
  },
  {
   "cell_type": "markdown",
   "metadata": {},
   "source": [
    "Начнём с построения сети. Для сегментации будем использовать архитекрутуру U-net."
   ]
  },
  {
   "cell_type": "markdown",
   "metadata": {},
   "source": [
    "![img](https://lmb.informatik.uni-freiburg.de/people/ronneber/u-net/u-net-architecture.png)"
   ]
  },
  {
   "cell_type": "markdown",
   "metadata": {},
   "source": [
    "Архитектура состоит из блоков (горизонтальные участки из синих прямоугольников). На примере выше сначала идёт 5 блоков кодировщика, далее 4 блока декодировщика. Между блоками кодировщика происходит уменьшение размерности в 2 раза с помощью max pooling. В декодировщике применяется upsampling и конкатенация с результатами соответствующего блока кодировщика. \n",
    "\n",
    "Давайте реализуем U-net по частям. Начнём с кодировщика. \n",
    "\n",
    "Один блок кодировщика состоит из двух последовательных сверток, активаций и батчнорма (опционально, но мы его сделаем дефолтным):"
   ]
  },
  {
   "cell_type": "code",
   "execution_count": null,
   "metadata": {
    "ExecuteTime": {
     "end_time": "2019-03-31T20:58:17.372483Z",
     "start_time": "2019-03-31T20:58:17.360296Z"
    }
   },
   "outputs": [],
   "source": [
    "class EncoderBlock(torch.nn.Module):\n",
    "    def __init__(self, in_channels, out_channels):\n",
    "        super().__init__()\n",
    "        self.conv1 = torch.nn.Conv2d(in_channels, out_channels, 3, padding=1)\n",
    "        self.bn1 = torch.nn.BatchNorm2d(out_channels)\n",
    "        self.relu1 = torch.nn.ReLU()\n",
    "        self.conv2 = torch.nn.Conv2d(out_channels, out_channels, 3, padding=1)\n",
    "        self.bn2 = torch.nn.BatchNorm2d(out_channels)\n",
    "        self.relu2 = torch.nn.ReLU()\n",
    "\n",
    "    def forward(self, x):\n",
    "        x = self.conv1(x)\n",
    "        x = self.bn1(x)\n",
    "        x = self.relu1(x)\n",
    "        x = self.conv2(x)\n",
    "        x = self.bn2(x)\n",
    "        x = self.relu2(x)\n",
    "        return x"
   ]
  },
  {
   "cell_type": "code",
   "execution_count": null,
   "metadata": {
    "ExecuteTime": {
     "end_time": "2019-03-31T20:58:17.601028Z",
     "start_time": "2019-03-31T20:58:17.581835Z"
    }
   },
   "outputs": [],
   "source": [
    "block = EncoderBlock(3, 16)\n",
    "block"
   ]
  },
  {
   "cell_type": "markdown",
   "metadata": {},
   "source": [
    "Запустим на картинке с 3 каналами размера 200 на 200 (первая \"единичка\" означает число картинок в батче)."
   ]
  },
  {
   "cell_type": "code",
   "execution_count": null,
   "metadata": {
    "ExecuteTime": {
     "end_time": "2019-03-31T20:58:18.103699Z",
     "start_time": "2019-03-31T20:58:18.037727Z"
    }
   },
   "outputs": [],
   "source": [
    "block(torch.rand((1, 3, 200, 200))).size()"
   ]
  },
  {
   "cell_type": "markdown",
   "metadata": {},
   "source": [
    "Получается, что размерность выхода при применении блока кодировщика не изменяется. Изменяется она только на max pooling и upsampling слоях."
   ]
  },
  {
   "cell_type": "markdown",
   "metadata": {},
   "source": [
    "Теперь составим кодировщик из описанных выше блоков. Конструкция определяется входными каналами, количеством фильтров в первом блоке и количеством блоков.\n",
    "\n",
    "Помним также, что для работы сети нам нужно запоминать промежуточные активации. Здесь как раз помогает подход к построению через `add_module`, так как количество блоков переменно."
   ]
  },
  {
   "cell_type": "code",
   "execution_count": null,
   "metadata": {
    "ExecuteTime": {
     "end_time": "2019-03-31T20:58:18.726265Z",
     "start_time": "2019-03-31T20:58:18.710822Z"
    }
   },
   "outputs": [],
   "source": [
    "class Encoder(torch.nn.Module):\n",
    "    def __init__(self, in_channels, num_filters, num_blocks):\n",
    "        super().__init__()\n",
    "        self.num_blocks = num_blocks\n",
    "        for i in range(num_blocks):\n",
    "            in_channels =  # your code\n",
    "            out_channels =  # your code\n",
    "            self.add_module('block_{}'.format(i + 1), # ...\n",
    "            # add also torch.nn.MaxPool2d(2, 2)) but not every time\n",
    "\n",
    "    def forward(self, x):\n",
    "        activations = []\n",
    "        for i in range(self.num_blocks):\n",
    "            block = self.__getattr__('block_{}'.format(i + 1))\n",
    "            # apply\n",
    "            # pooling\n",
    "            # saving activations\n",
    "        # your code"
   ]
  },
  {
   "cell_type": "markdown",
   "metadata": {},
   "source": [
    "Создадим кодировщик из 4 блоков, где базовая размерность будет 8."
   ]
  },
  {
   "cell_type": "code",
   "execution_count": null,
   "metadata": {
    "ExecuteTime": {
     "end_time": "2019-03-31T20:58:19.428537Z",
     "start_time": "2019-03-31T20:58:19.200958Z"
    }
   },
   "outputs": [],
   "source": [
    "encoder = Encoder(in_channels=3, num_filters=8, num_blocks=4)\n",
    "encoder"
   ]
  },
  {
   "cell_type": "markdown",
   "metadata": {},
   "source": [
    "Проверьте, что на изображении 256 на 256 после каждого блока кодировщика размерность уменьшается в 2 раза, а число фильтров увеличивается в 2 раза, начиная с 8."
   ]
  },
  {
   "cell_type": "code",
   "execution_count": null,
   "metadata": {
    "ExecuteTime": {
     "end_time": "2019-03-31T20:58:21.016996Z",
     "start_time": "2019-03-31T20:58:20.997973Z"
    }
   },
   "outputs": [],
   "source": [
    "batch_X = torch.zeros(4, 3, 256, 256)\n",
    "\n",
    "for x in encoder(batch_X):\n",
    "    print(x.shape)"
   ]
  },
  {
   "cell_type": "markdown",
   "metadata": {},
   "source": [
    "**Вопрос 1: Размерность последнего слоя энкодера**\n",
    "\n",
    "Какая размерность на последнем слое (перемножьте все размерности включая размер батча). Внесите свой ответ в поле _\"Вопрос 1: Размерность последнего слоя энкодера\"_ гугл-формы этого домашнего задания."
   ]
  },
  {
   "cell_type": "markdown",
   "metadata": {},
   "source": [
    "Блок декодировщика состоит из апскейлинга входа \"снизу\", объединения двух входов и сверток как в кодировщике. Перед конкатенированием используем свёртку для уменьшения числа фильтров в 2 раза (их количество и так растёт в 2 раза в результате объединения)."
   ]
  },
  {
   "cell_type": "code",
   "execution_count": null,
   "metadata": {
    "ExecuteTime": {
     "end_time": "2019-03-31T20:58:27.561470Z",
     "start_time": "2019-03-31T20:58:27.551415Z"
    }
   },
   "outputs": [],
   "source": [
    "class DecoderBlock(torch.nn.Module):\n",
    "    def __init__(self, out_channels):\n",
    "        super().__init__()\n",
    "        self.conv1 = torch.nn.Conv2d(out_channels * 2, out_channels, 3, padding=1)\n",
    "        self.relu1 = torch.nn.ReLU()\n",
    "        self.conv2 = torch.nn.Conv2d(out_channels * 2, out_channels, 3, padding=1)\n",
    "        self.relu2 = torch.nn.ReLU()\n",
    "        self.conv3 = torch.nn.Conv2d(out_channels, out_channels, 3, padding=1)\n",
    "        self.relu3 = torch.nn.ReLU()\n",
    "\n",
    "    def forward(self, down, left):\n",
    "        # upscale->conv+relu->concat->conv+relu->conv+relu - make it\n",
    "        x = torch.nn.functional.interpolate(down, scale_factor=2)\n",
    "        # your code\n",
    "        return x"
   ]
  },
  {
   "cell_type": "markdown",
   "metadata": {},
   "source": [
    "Проверим блок декодера, который отдаёт на выходе картинку толщиной в 8 фильтров."
   ]
  },
  {
   "cell_type": "code",
   "execution_count": null,
   "metadata": {
    "ExecuteTime": {
     "end_time": "2019-03-31T20:58:27.816873Z",
     "start_time": "2019-03-31T20:58:27.809383Z"
    }
   },
   "outputs": [],
   "source": [
    "block = DecoderBlock(8)"
   ]
  },
  {
   "cell_type": "code",
   "execution_count": null,
   "metadata": {
    "ExecuteTime": {
     "end_time": "2019-03-31T20:58:28.031972Z",
     "start_time": "2019-03-31T20:58:28.012149Z"
    }
   },
   "outputs": [],
   "source": [
    "batch_inside = encoder(batch_X)\n",
    "batch_inside[1].shape, batch_inside[0].shape"
   ]
  },
  {
   "cell_type": "code",
   "execution_count": null,
   "metadata": {
    "ExecuteTime": {
     "end_time": "2019-03-31T20:58:28.255355Z",
     "start_time": "2019-03-31T20:58:28.237222Z"
    }
   },
   "outputs": [],
   "source": [
    "block(batch_inside[1], batch_inside[0]).shape"
   ]
  },
  {
   "cell_type": "markdown",
   "metadata": {},
   "source": [
    "Декодировщик собираем из таких блоков:"
   ]
  },
  {
   "cell_type": "code",
   "execution_count": null,
   "metadata": {
    "ExecuteTime": {
     "end_time": "2019-03-31T20:58:28.562333Z",
     "start_time": "2019-03-31T20:58:28.547216Z"
    }
   },
   "outputs": [],
   "source": [
    "class Decoder(torch.nn.Module):\n",
    "    def __init__(self, num_filters, num_blocks):\n",
    "        super().__init__()\n",
    "        for i in range(num_blocks):\n",
    "            self.add_module('block_{}'.format(num_blocks - i), DecoderBlock(num_filters * 2**i))\n",
    "\n",
    "    def forward(self, activations):\n",
    "        # your code"
   ]
  },
  {
   "cell_type": "code",
   "execution_count": null,
   "metadata": {
    "ExecuteTime": {
     "end_time": "2019-03-31T20:58:28.710063Z",
     "start_time": "2019-03-31T20:58:28.691085Z"
    }
   },
   "outputs": [],
   "source": [
    "decoder = Decoder(8, 3)"
   ]
  },
  {
   "cell_type": "code",
   "execution_count": null,
   "metadata": {
    "ExecuteTime": {
     "end_time": "2019-03-31T20:58:28.839951Z",
     "start_time": "2019-03-31T20:58:28.821222Z"
    }
   },
   "outputs": [],
   "source": [
    "print(batch_X.shape)\n",
    "print(decoder(encoder(batch_X)).shape)"
   ]
  },
  {
   "cell_type": "markdown",
   "metadata": {},
   "source": [
    "U-Net состоит из такого кодировщика и декодировщика, а также финального слоя классификации:"
   ]
  },
  {
   "cell_type": "code",
   "execution_count": null,
   "metadata": {
    "ExecuteTime": {
     "end_time": "2019-03-31T20:58:29.232764Z",
     "start_time": "2019-03-31T20:58:29.223865Z"
    }
   },
   "outputs": [],
   "source": [
    "class UNet(torch.nn.Module):\n",
    "    def __init__(self, num_classes, in_channels=3, num_filters=8, num_blocks=4):\n",
    "        super().__init__()\n",
    "        self.encoder =  # your code\n",
    "        self.decoder =  # your code\n",
    "        self.final =  # your code\n",
    "\n",
    "    def forward(self, x):\n",
    "        acts = self.encoder(x)\n",
    "        x = self.decoder(acts)\n",
    "        x = self.final(x)\n",
    "        return x"
   ]
  },
  {
   "cell_type": "code",
   "execution_count": null,
   "metadata": {
    "ExecuteTime": {
     "end_time": "2019-03-31T20:58:29.364395Z",
     "start_time": "2019-03-31T20:58:29.338689Z"
    }
   },
   "outputs": [],
   "source": [
    "model = UNet(num_classes=6)"
   ]
  },
  {
   "cell_type": "code",
   "execution_count": null,
   "metadata": {
    "ExecuteTime": {
     "end_time": "2019-03-31T20:58:29.671034Z",
     "start_time": "2019-03-31T20:58:29.648222Z"
    }
   },
   "outputs": [],
   "source": [
    "device = torch.device('cuda' if torch.cuda.is_available() else 'cpu')\n",
    "model.to(device)\n",
    "\n",
    "images = torch.randn(4, 3, 416, 416).to(device)\n",
    "model(images).shape"
   ]
  },
  {
   "cell_type": "markdown",
   "metadata": {},
   "source": [
    "**Вопрос 2: Размерность на выходе всей модели** \n",
    "\n",
    "Какая размерность получилась на выходе (перемножьте все размерности, включая количество батчей)? Внесите свой ответ в поле _\"Вопрос 2:  Размерность на выходе всей модели\"_ гугл-формы этого домашнего задания."
   ]
  },
  {
   "cell_type": "markdown",
   "metadata": {},
   "source": [
    "На выходе из сети получаем бинарную маску из линейных активаций. Для обучения такой модели используются функции потерь, которые включают в себя применение активации. В вероятности их можно превращать с помощью `torch.sigmoid`."
   ]
  },
  {
   "cell_type": "markdown",
   "metadata": {},
   "source": [
    "### Данные"
   ]
  },
  {
   "cell_type": "markdown",
   "metadata": {},
   "source": [
    "Будем решать задачу семантической сегментации на синтетических данных, представляющий собой множество эллипсов, квадратов и треугольников с гауссовым шумом."
   ]
  },
  {
   "cell_type": "markdown",
   "metadata": {},
   "source": [
    "Для загрузки данных pytorch опирается на такую сущность, как `Dataset`. Этот абстрактный класс определен в `torch.utils.data.dataset`."
   ]
  },
  {
   "cell_type": "code",
   "execution_count": null,
   "metadata": {
    "ExecuteTime": {
     "end_time": "2019-03-31T20:58:30.253993Z",
     "start_time": "2019-03-31T20:58:30.230042Z"
    }
   },
   "outputs": [],
   "source": [
    "class Figures(Dataset):\n",
    "    def __init__(self, num_images=10, num_figure=10, size_hor=200, size_ver=200,\n",
    "                 min_size=5, max_size=40, noise=False,\n",
    "                 normalize=None):\n",
    "        \n",
    "        self.images = []\n",
    "        \n",
    "        for _ in range(num_images):\n",
    "            color_background = tuple(np.random.randint(low=0, high=255, size=3))\n",
    "            image = Image.new(mode='RGB', size=(size_hor, size_ver), color=color_background)\n",
    "            draw = ImageDraw.Draw(image)\n",
    "\n",
    "            mask = Image.new(mode='1', size=(size_hor, size_ver), color=0)\n",
    "            draw_mask = ImageDraw.Draw(mask)\n",
    "            \n",
    "            for i in range(num_figure):\n",
    "                color = tuple(np.random.randint(low=0, high=255, size=3))\n",
    "                size = np.random.randint(low=min_size, high=max_size)\n",
    "                \n",
    "                xl = np.random.randint(low=0, high=size_hor-size)\n",
    "                yt = np.random.randint(low=0, high=size_ver-size)\n",
    "                xr = xl + size\n",
    "                yb = yt + size\n",
    "                \n",
    "                figure_type = np.random.choice(['circle', 'triangle', 'rectangle'])\n",
    "                if figure_type == 'circle':\n",
    "                    draw.ellipse((xl, yt, xr, yb), fill=color)\n",
    "                    draw_mask.ellipse((xl, yt, xr, yb), fill=1)\n",
    "                elif figure_type == 'rectangle':\n",
    "                    draw.rectangle((xl, yt, xr, yb), fill=color)\n",
    "                    draw_mask.rectangle((xl, yt, xr, yb), fill=1)\n",
    "                elif figure_type == 'triangle':\n",
    "                    draw.polygon((xl, yb, xr, yb, (xl + xr) / 2, yt), fill=color)\n",
    "                    draw_mask.polygon((xl, yb, xr, yb, (xl + xr) / 2, yt), fill=1)\n",
    "\n",
    "            image = torchvision.transforms.ToTensor()(image).float()\n",
    "            mask = torchvision.transforms.ToTensor()(mask).float()\n",
    "            \n",
    "            if normalize:\n",
    "                image = normalize(image)\n",
    "           \n",
    "            if noise:\n",
    "                mean, var = 0, 0.001\n",
    "                gauss = np.random.normal(mean, var ** 0.5, (3, size_hor, size_ver))\n",
    "                image = image + torch.FloatTensor(gauss)\n",
    "                \n",
    "            self.images.append({'image': image, 'mask': mask})\n",
    "\n",
    "    def __getitem__(self, index):\n",
    "        return self.images[index]\n",
    "        \n",
    "    def __len__(self):\n",
    "        return len(self.images)"
   ]
  },
  {
   "cell_type": "markdown",
   "metadata": {},
   "source": [
    "Примеры:"
   ]
  },
  {
   "cell_type": "code",
   "execution_count": null,
   "metadata": {
    "ExecuteTime": {
     "end_time": "2019-03-31T20:58:30.642682Z",
     "start_time": "2019-03-31T20:58:30.547466Z"
    }
   },
   "outputs": [],
   "source": [
    "generator = Figures(noise=True, normalize=None)"
   ]
  },
  {
   "cell_type": "code",
   "execution_count": null,
   "metadata": {
    "ExecuteTime": {
     "end_time": "2019-03-31T20:58:30.810032Z",
     "start_time": "2019-03-31T20:58:30.758038Z"
    }
   },
   "outputs": [],
   "source": [
    "torchvision.transforms.ToPILImage()(generator[0]['image'])"
   ]
  },
  {
   "cell_type": "code",
   "execution_count": null,
   "metadata": {
    "ExecuteTime": {
     "end_time": "2019-03-31T20:58:31.301357Z",
     "start_time": "2019-03-31T20:58:30.931260Z"
    }
   },
   "outputs": [],
   "source": [
    "plt.imshow(np.array(generator[0]['mask'][0, :, :]).reshape((200, 200)))\n",
    "plt.show()"
   ]
  },
  {
   "cell_type": "markdown",
   "metadata": {},
   "source": [
    "Посчитаем среднее и дисперсию, чтобы дальше нормализовать с такими коэффициентами:"
   ]
  },
  {
   "cell_type": "code",
   "execution_count": null,
   "metadata": {
    "ExecuteTime": {
     "end_time": "2019-03-31T20:58:35.723885Z",
     "start_time": "2019-03-31T20:58:31.465376Z"
    }
   },
   "outputs": [],
   "source": [
    "data = Figures(num_images=1000, noise=False)\n",
    "\n",
    "image_pixels = torch.stack([ell['image'].reshape((3, -1)) for ell in data], dim=1)\n",
    "mean_ = image_pixels.reshape((3, -1)).mean(1)\n",
    "std_ = image_pixels.reshape((3, -1)).std(1)\n",
    "normalize = torchvision.transforms.Normalize(mean_, std_)"
   ]
  },
  {
   "cell_type": "markdown",
   "metadata": {},
   "source": [
    "### Обучение модели"
   ]
  },
  {
   "cell_type": "markdown",
   "metadata": {},
   "source": [
    "Для оценки качества масок будем использовать Dice.\n",
    "\n",
    "![](https://wikimedia.org/api/rest_v1/media/math/render/svg/a80a97215e1afc0b222e604af1b2099dc9363d3b)\n",
    "\n",
    "При реализации не забывайте, что на вход поступает сразу весь батч, а результат должен быть усреднением dice-score по всем изображениям батча. Не забывайте о возможных численных неустойчивостях при возможности деления на ноль."
   ]
  },
  {
   "cell_type": "code",
   "execution_count": null,
   "metadata": {
    "ExecuteTime": {
     "end_time": "2019-03-31T20:58:35.894330Z",
     "start_time": "2019-03-31T20:58:35.877834Z"
    }
   },
   "outputs": [],
   "source": [
    "def dice_coefficient(mask, prediction):\n",
    "    # your code"
   ]
  },
  {
   "cell_type": "markdown",
   "metadata": {},
   "source": [
    "Проверим реализацию dice."
   ]
  },
  {
   "cell_type": "code",
   "execution_count": null,
   "metadata": {
    "ExecuteTime": {
     "end_time": "2019-03-31T20:58:40.535492Z",
     "start_time": "2019-03-31T20:58:40.450586Z"
    }
   },
   "outputs": [],
   "source": [
    "torch.manual_seed(10)\n",
    "\n",
    "test_mask = torch.randint(0, 2, size=(8, 1, 300, 300)).float()\n",
    "prediction_mask = torch.randint(0, 2, size=(8, 1, 300, 300)).float()\n",
    "\n",
    "dice_coefficient(test_mask, prediction_mask)"
   ]
  },
  {
   "cell_type": "markdown",
   "metadata": {},
   "source": [
    "**Вопрос 3: Dice Coefficient**\n",
    "\n",
    "Какой результат получился в клетке выше (ответ округлите до **четырех** знаков после запятой, например: 0.6576)? Внесите свой ответ в поле _\"Вопрос 3: Dice Coefficient\"_ гугл-формы этого домашнего задания."
   ]
  },
  {
   "cell_type": "markdown",
   "metadata": {},
   "source": [
    "Подготовим обучающую и тестовую выборки."
   ]
  },
  {
   "cell_type": "code",
   "execution_count": null,
   "metadata": {
    "ExecuteTime": {
     "end_time": "2019-03-31T20:58:43.372755Z",
     "start_time": "2019-03-31T20:58:41.535113Z"
    }
   },
   "outputs": [],
   "source": [
    "batch_size = 8\n",
    "\n",
    "train_data_loader = torch.utils.data.DataLoader(\n",
    "    dataset=Figures(noise=False, normalize=normalize, num_images=500),\n",
    "    batch_size=batch_size, shuffle=True)\n",
    "\n",
    "test_data_loader = torch.utils.data.DataLoader(\n",
    "    dataset=Figures(noise=False, normalize=normalize, num_images=200),\n",
    "    batch_size=batch_size)\n",
    "\n",
    "train_size = len(train_data_loader.dataset)\n",
    "test_size = len(test_data_loader.dataset)"
   ]
  },
  {
   "cell_type": "markdown",
   "metadata": {},
   "source": [
    "Для обучения моделей необходимо определить функцию потерь, их примеры содержатся в модуле `torch.nn`. Сейчас для задачи бинарной сегментации нам потребуется бинарная кросс энтропия, которая на вход будет принимать не вероятности, а сырые значения (у нас сеть заканчивается линейным слоем). Найдите такую функцию."
   ]
  },
  {
   "cell_type": "code",
   "execution_count": null,
   "metadata": {
    "ExecuteTime": {
     "end_time": "2019-03-31T20:58:43.542193Z",
     "start_time": "2019-03-31T20:58:43.530922Z"
    }
   },
   "outputs": [],
   "source": [
    "criterion =  # your code\n",
    "num_epoch = 10\n",
    "\n",
    "network = UNet(num_classes=1)\n",
    "optimizer = torch.optim.Adam(network.parameters())"
   ]
  },
  {
   "cell_type": "code",
   "execution_count": null,
   "metadata": {
    "ExecuteTime": {
     "end_time": "2019-03-31T20:58:46.425402Z",
     "start_time": "2019-03-31T20:58:46.400580Z"
    },
    "scrolled": true
   },
   "outputs": [],
   "source": [
    "global_step = 0\n",
    "\n",
    "for epoch in range(num_epoch):\n",
    "    loss_train = 0\n",
    "    for i, batch in enumerate(train_data_loader):\n",
    "        # main train loop: zero gradient, forward, loss, backward, update\n",
    "        optimizer.zero_grad()\n",
    "        output = network(batch['image'])\n",
    "        loss = criterion(output, batch['mask'])\n",
    "        loss_train += batch_size * float(loss.detach())\n",
    "        loss.backward()\n",
    "        optimizer.step()\n",
    "    loss_train = loss_train / train_size\n",
    "        \n",
    "    loss_test, dice_test = 0, 0\n",
    "    for i, batch in enumerate(test_data_loader):\n",
    "        output = network(batch['image'])\n",
    "        prediction_mask = (output > 0).float()\n",
    "        loss_test += batch_size * float(criterion(output, batch['mask']).detach())\n",
    "        dice_test += batch_size * float(dice_coefficient(batch['mask'], prediction_mask).detach())\n",
    "    loss_test = loss_test / test_size\n",
    "    dice_test = dice_test / test_size\n",
    "    \n",
    "    print('epoch: {},\\ttrain loss: {},\\ttest loss: {},\\ttest dice: {}'.format(\n",
    "        epoch, round(loss_train, 5), round(loss_test, 5), round(dice_test, 5)))"
   ]
  },
  {
   "cell_type": "markdown",
   "metadata": {},
   "source": [
    "**Вопрос 4: Функция потерь на тестовой выборке**\n",
    "\n",
    "Какое значение функции потерь получилось после 10 эпох на тестовой выборке (ответ округлите до **двух** знаков после запятой, например: 0.65)? Внесите свой ответ в поле _\"Вопрос 4: Функция потерь на тестовой выборке\"_ гугл-формы этого домашнего задания."
   ]
  },
  {
   "cell_type": "markdown",
   "metadata": {},
   "source": [
    "Визуализируйте 3 произвольных картинки, их маски и предсказания сети."
   ]
  },
  {
   "cell_type": "code",
   "execution_count": null,
   "metadata": {
    "ExecuteTime": {
     "end_time": "2019-03-31T20:58:47.734252Z",
     "start_time": "2019-03-31T20:58:47.723156Z"
    }
   },
   "outputs": [],
   "source": [
    "# your code"
   ]
  },
  {
   "cell_type": "markdown",
   "metadata": {},
   "source": [
    "Попробуйте увеличить `batch_size` в 4 раза и повторите обучение с теми же 10 эпохами."
   ]
  },
  {
   "cell_type": "code",
   "execution_count": null,
   "metadata": {
    "ExecuteTime": {
     "end_time": "2019-03-31T20:58:51.301848Z",
     "start_time": "2019-03-31T20:58:48.343352Z"
    }
   },
   "outputs": [],
   "source": [
    "batch_size = 8 * 4\n",
    "\n",
    "train_data_loader = torch.utils.data.DataLoader(\n",
    "    dataset=Figures(noise=False, normalize=normalize, num_images=1000),\n",
    "    batch_size=batch_size, shuffle=True)\n",
    "\n",
    "test_data_loader = torch.utils.data.DataLoader(\n",
    "    dataset=Figures(noise=False, normalize=normalize, num_images=250),\n",
    "    batch_size=batch_size)\n",
    "\n",
    "test_size = len(test_data_loader.dataset)"
   ]
  },
  {
   "cell_type": "code",
   "execution_count": null,
   "metadata": {
    "ExecuteTime": {
     "end_time": "2019-03-31T20:58:51.722321Z",
     "start_time": "2019-03-31T20:58:51.704700Z"
    }
   },
   "outputs": [],
   "source": [
    "criterion = torch.nn.BCEWithLogitsLoss()\n",
    "num_epoch = 10\n",
    "\n",
    "network = UNet(num_classes=1)\n",
    "optimizer = torch.optim.Adam(network.parameters())"
   ]
  },
  {
   "cell_type": "code",
   "execution_count": null,
   "metadata": {
    "ExecuteTime": {
     "end_time": "2019-03-31T20:58:52.037734Z",
     "start_time": "2019-03-31T20:58:51.996047Z"
    },
    "scrolled": true
   },
   "outputs": [],
   "source": [
    "global_step = 0\n",
    "\n",
    "for epoch in range(num_epoch):\n",
    "    loss_train = 0\n",
    "    for i, batch in enumerate(train_data_loader):\n",
    "        # main train loop: zero gradient, forward, loss, backward, update\n",
    "        optimizer.zero_grad()\n",
    "        output = network(batch['image'])\n",
    "        loss = criterion(output, batch['mask'])\n",
    "        loss_train += batch_size * float(loss.detach())\n",
    "        loss.backward()\n",
    "        optimizer.step()\n",
    "    loss_train = loss_train / train_size\n",
    "        \n",
    "    loss_test, dice_test = 0, 0\n",
    "    for i, batch in enumerate(test_data_loader):\n",
    "        output = network(batch['image'])\n",
    "        prediction_mask = (output > 0).float()\n",
    "        loss_test += batch_size * float(criterion(output, batch['mask']).detach())\n",
    "        dice_test += batch_size * float(dice_coefficient(batch['mask'], prediction_mask).detach())\n",
    "    loss_test = loss_test / test_size\n",
    "    dice_test = dice_test / test_size\n",
    "    \n",
    "    print('epoch: {},\\ttrain loss: {},\\ttest loss: {},\\ttest dice: {}'.format(\n",
    "        epoch, round(loss_train, 5), round(loss_test, 5), round(dice_test, 5)))"
   ]
  },
  {
   "cell_type": "markdown",
   "metadata": {},
   "source": [
    "**Вопрос 5: Dice Coefficient на тестовой выборке**\n",
    "\n",
    "Какое значение dice на тестовой выборке после 10 эпох (ответ округлите до **двух** знаков после запятой, например: 0.65)? Внесите свой ответ в поле _\"Вопрос 5: Dice Coefficient на тестовой выборке\"_ гугл-формы этого домашнего задания."
   ]
  },
  {
   "cell_type": "code",
   "execution_count": null,
   "metadata": {},
   "outputs": [],
   "source": []
  }
 ],
 "metadata": {
  "kernelspec": {
   "display_name": "Python 3",
   "language": "python",
   "name": "python3"
  },
  "language_info": {
   "codemirror_mode": {
    "name": "ipython",
    "version": 3
   },
   "file_extension": ".py",
   "mimetype": "text/x-python",
   "name": "python",
   "nbconvert_exporter": "python",
   "pygments_lexer": "ipython3",
   "version": "3.6.6"
  },
  "toc": {
   "base_numbering": 1,
   "nav_menu": {},
   "number_sections": true,
   "sideBar": true,
   "skip_h1_title": false,
   "title_cell": "Table of Contents",
   "title_sidebar": "Contents",
   "toc_cell": false,
   "toc_position": {},
   "toc_section_display": true,
   "toc_window_display": false
  },
  "varInspector": {
   "cols": {
    "lenName": 16,
    "lenType": 16,
    "lenVar": 40
   },
   "kernels_config": {
    "python": {
     "delete_cmd_postfix": "",
     "delete_cmd_prefix": "del ",
     "library": "var_list.py",
     "varRefreshCmd": "print(var_dic_list())"
    },
    "r": {
     "delete_cmd_postfix": ") ",
     "delete_cmd_prefix": "rm(",
     "library": "var_list.r",
     "varRefreshCmd": "cat(var_dic_list()) "
    }
   },
   "types_to_exclude": [
    "module",
    "function",
    "builtin_function_or_method",
    "instance",
    "_Feature"
   ],
   "window_display": false
  }
 },
 "nbformat": 4,
 "nbformat_minor": 2
}
