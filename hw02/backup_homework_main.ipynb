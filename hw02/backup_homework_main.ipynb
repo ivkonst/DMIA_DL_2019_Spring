{
 "cells": [
  {
   "cell_type": "code",
   "execution_count": 1,
   "metadata": {},
   "outputs": [],
   "source": [
    "import numpy as np\n",
    "import numpy as np\n",
    "from random import randrange\n",
    "\n",
    "def eval_numerical_gradient(f, x, verbose=True, h=0.00001):\n",
    "    fx = f(x) # evaluate function value at original point\n",
    "    grad = np.zeros_like(x)\n",
    "    # iterate over all indexes in x\n",
    "    it = np.nditer(x, flags=['multi_index'], op_flags=['readwrite'])\n",
    "    while not it.finished:\n",
    "        \n",
    "        # evaluate function at x+h\n",
    "        ix = it.multi_index\n",
    "        oldval = x[ix]\n",
    "        x[ix] = oldval + h # increment by h\n",
    "        fxph = f(x) # evalute f(x + h)\n",
    "        x[ix] = oldval - h\n",
    "        fxmh = f(x) # evaluate f(x - h)\n",
    "        x[ix] = oldval # restore\n",
    "\n",
    "        # compute the partial derivative with centered formula\n",
    "        grad[ix] = (fxph - fxmh) / (2 * h) # the slope\n",
    "        if verbose:\n",
    "            print(ix, grad[ix])\n",
    "        it.iternext() # step to next dimension\n",
    "\n",
    "    return grad\n",
    "\n",
    "\n",
    "def eval_numerical_gradient_array(f, x, df, h=1e-5):\n",
    "    grad = np.zeros_like(x)\n",
    "    it = np.nditer(x, flags=['multi_index'], op_flags=['readwrite'])\n",
    "    while not it.finished:\n",
    "        ix = it.multi_index\n",
    "    \n",
    "        oldval = x[ix]\n",
    "        x[ix] = oldval + h\n",
    "        pos = f(x).copy()\n",
    "        x[ix] = oldval - h\n",
    "        neg = f(x).copy()\n",
    "        x[ix] = oldval\n",
    "\n",
    "        grad[ix] = np.sum((pos - neg) * df) / (2 * h)\n",
    "        it.iternext()\n",
    "    return grad\n",
    "\n",
    "def rel_error(x, y):\n",
    "    return np.max(np.abs(x - y) / (np.maximum(1e-8, np.abs(x) + np.abs(y))))"
   ]
  },
  {
   "cell_type": "code",
   "execution_count": 2,
   "metadata": {},
   "outputs": [],
   "source": [
    "# (re-)load layers\n",
    "%run homework_modules.ipynb"
   ]
  },
  {
   "cell_type": "code",
   "execution_count": 3,
   "metadata": {},
   "outputs": [
    {
     "name": "stdout",
     "output_type": "stream",
     "text": [
      "Testing SoftMax(errors should be < 1e-6):\n",
      "\t dx error:  2.4246892102893526e-11\n"
     ]
    }
   ],
   "source": [
    "x = np.random.randn(2, 3)\n",
    "dout = np.random.randn(2, 3)\n",
    "\n",
    "dx_num = eval_numerical_gradient_array(SoftMax().updateOutput, x, dout)\n",
    "dx = SoftMax().updateGradInput(x, dout)\n",
    "\n",
    "print('Testing SoftMax(errors should be < 1e-6):')\n",
    "print('\\t dx error: ', rel_error(dx_num, dx))"
   ]
  },
  {
   "cell_type": "code",
   "execution_count": 4,
   "metadata": {},
   "outputs": [
    {
     "name": "stdout",
     "output_type": "stream",
     "text": [
      "Testing LogSoftMax(errors should be < 1e-6):\n",
      "\t dx error:  3.887514293997239e-11\n"
     ]
    }
   ],
   "source": [
    "# x = np.random.randn(2, 3)\n",
    "# dout = np.random.randn(2, 3)\n",
    "\n",
    "dx_num = eval_numerical_gradient_array(LogSoftMax().updateOutput, x, dout)\n",
    "dx = LogSoftMax().updateGradInput(x, dout)\n",
    "\n",
    "print('Testing LogSoftMax(errors should be < 1e-6):')\n",
    "print('\\t dx error: ', rel_error(dx_num, dx))"
   ]
  },
  {
   "cell_type": "code",
   "execution_count": 5,
   "metadata": {},
   "outputs": [
    {
     "name": "stdout",
     "output_type": "stream",
     "text": [
      "Testing ClassNLLCriterionUnstable (errors should be < 1e-6):\n",
      "\t dx error:  7.70983914330389e-09\n"
     ]
    }
   ],
   "source": [
    "x = SoftMax().softmax(np.random.randn(10, 6)+5)\n",
    "target = np.vstack((np.eye(6, 6),np.eye(4, 6)))\n",
    "\n",
    "dx_num = eval_numerical_gradient(lambda x: ClassNLLCriterionUnstable().updateOutput(x, target), x, verbose=False)\n",
    "dx = ClassNLLCriterionUnstable().updateGradInput(x, target)\n",
    "\n",
    "print('Testing ClassNLLCriterionUnstable (errors should be < 1e-6):')\n",
    "print('\\t dx error: ', rel_error(dx_num, dx))"
   ]
  },
  {
   "cell_type": "code",
   "execution_count": 6,
   "metadata": {},
   "outputs": [
    {
     "data": {
      "text/plain": [
       "0.41007095701768714"
      ]
     },
     "execution_count": 6,
     "metadata": {},
     "output_type": "execute_result"
    }
   ],
   "source": [
    "target = np.array([[1,0],[1,0],[0,1],[0,1]])\n",
    "x = np.array([[.9, .1], [.8, .2], [.3, .7], [.01, .99]])\n",
    "\n",
    "ClassNLLCriterionUnstable().updateOutput(SoftMax().softmax(x), target)"
   ]
  },
  {
   "cell_type": "code",
   "execution_count": 8,
   "metadata": {},
   "outputs": [
    {
     "name": "stdout",
     "output_type": "stream",
     "text": [
      "Testing ClassNLLCriterion (errors should be < 1e-6):\n",
      "\t dx error:  6.988888633996435e-11\n"
     ]
    }
   ],
   "source": [
    "x = np.random.randn(10, 6)+5\n",
    "x = LogSoftMax().updateOutput(x)\n",
    "target = np.vstack((np.eye(6, 6),np.eye(4, 6)))\n",
    "\n",
    "dx_num = eval_numerical_gradient(lambda x: ClassNLLCriterion().updateOutput(x, target), x, verbose=False)\n",
    "dx = ClassNLLCriterion().updateGradInput(x, target)\n",
    "\n",
    "print('Testing ClassNLLCriterion (errors should be < 1e-6):')\n",
    "print('\\t dx error: ', rel_error(dx_num, dx))"
   ]
  },
  {
   "cell_type": "code",
   "execution_count": 9,
   "metadata": {},
   "outputs": [
    {
     "data": {
      "text/plain": [
       "0.41007095701768714"
      ]
     },
     "execution_count": 9,
     "metadata": {},
     "output_type": "execute_result"
    }
   ],
   "source": [
    "target = np.array([[1,0],[1,0],[0,1],[0,1]])\n",
    "x = np.array([[.9, .1], [.8, .2], [.3, .7], [.01, .99]])\n",
    "\n",
    "ClassNLLCriterion().updateOutput(LogSoftMax().updateOutput(x), target)"
   ]
  },
  {
   "cell_type": "code",
   "execution_count": 10,
   "metadata": {},
   "outputs": [
    {
     "name": "stdout",
     "output_type": "stream",
     "text": [
      "Testing LeakyReLU(errors should be < 1e-6):\n",
      "\t dx error:  3.1881466580795145e-11\n"
     ]
    }
   ],
   "source": [
    "x = (np.random.randn(2, 3) - 0.5) * 2\n",
    "dout = np.random.randn(2, 3)\n",
    "\n",
    "dx_num = eval_numerical_gradient_array(LeakyReLU().updateOutput, x, dout)\n",
    "dx = LeakyReLU().updateGradInput(x, dout)\n",
    "\n",
    "print('Testing LeakyReLU(errors should be < 1e-6):')\n",
    "print('\\t dx error: ', rel_error(dx_num, dx))"
   ]
  },
  {
   "cell_type": "code",
   "execution_count": 11,
   "metadata": {},
   "outputs": [
    {
     "name": "stdout",
     "output_type": "stream",
     "text": [
      "Testing ELU(errors should be < 1e-6):\n",
      "\t dx error:  9.841086234027998e-11\n"
     ]
    }
   ],
   "source": [
    "x = (np.random.randn(2, 3) - 0.5) * 2\n",
    "dout = np.random.randn(2, 3)\n",
    "\n",
    "dx_num = eval_numerical_gradient_array(ELU().updateOutput, x, dout)\n",
    "dx = ELU().updateGradInput(x, dout)\n",
    "\n",
    "print('Testing ELU(errors should be < 1e-6):')\n",
    "print('\\t dx error: ', rel_error(dx_num, dx))"
   ]
  },
  {
   "cell_type": "markdown",
   "metadata": {},
   "source": [
    "# Homework 02: Basic Artificial Neural Networks"
   ]
  },
  {
   "cell_type": "markdown",
   "metadata": {},
   "source": [
    "This homework is heavily based on materials from [Practical DL](https://github.com/yandexdataschool/Practical_DL/) course offered by HSE, YSDA and Skoltech.\n",
    "\n",
    "The goal of this homework is simple, yet an actual implementation may take some time :). We are going to write an Artificial Neural Network (almost) from scratch. The software design of was heavily inspired by [Torch](http://torch.ch) which is the most convenient neural network environment when the work involves defining new layers. "
   ]
  },
  {
   "cell_type": "markdown",
   "metadata": {},
   "source": [
    "This homework requires answering **multiple** questions in [google form](https://goo.gl/forms/4pEVo1aTtgqNd6EI2). Make sure you are entering mail address that you used for registration for DMIA DL. In this notebook you will find clear instructions on what to send and how."
   ]
  },
  {
   "cell_type": "code",
   "execution_count": 1,
   "metadata": {
    "ExecuteTime": {
     "end_time": "2019-03-07T05:40:00.697808Z",
     "start_time": "2019-03-07T05:40:00.472947Z"
    }
   },
   "outputs": [],
   "source": [
    "%matplotlib inline\n",
    "from time import time, sleep\n",
    "import numpy as np\n",
    "import matplotlib.pyplot as plt\n",
    "from IPython import display"
   ]
  },
  {
   "cell_type": "markdown",
   "metadata": {},
   "source": [
    "# Framework"
   ]
  },
  {
   "cell_type": "markdown",
   "metadata": {},
   "source": [
    "Implement everything in `Modules.ipynb`. Read all the comments thoughtfully to ease the pain. Please try not to change the prototypes.\n",
    "\n",
    "Do not forget, that each module should return **AND** store `output` and `gradInput`.\n",
    "\n",
    "The typical assumption is that `module.backward` is always executed after `module.forward`,\n",
    "so `output` is stored, this would be useful for `SoftMax`. "
   ]
  },
  {
   "cell_type": "markdown",
   "metadata": {},
   "source": [
    "### Tech note\n",
    "Prefer using `np.multiply`, `np.add`, `np.divide`, `np.subtract` instead of `*`,`+`,`/`,`-` for better memory handling.\n",
    "\n",
    "Example: suppose you allocated a variable \n",
    "\n",
    "```\n",
    "a = np.zeros(...)\n",
    "```\n",
    "So, instead of\n",
    "```\n",
    "a = b + c  # will be reallocated, GC needed to free\n",
    "``` \n",
    "You can use: \n",
    "```\n",
    "np.add(b,c,out = a) # puts result in `a`\n",
    "```"
   ]
  },
  {
   "cell_type": "code",
   "execution_count": 2,
   "metadata": {
    "ExecuteTime": {
     "end_time": "2019-03-07T08:20:21.620166Z",
     "start_time": "2019-03-07T08:20:21.471626Z"
    }
   },
   "outputs": [],
   "source": [
    "# (re-)load layers\n",
    "%run homework_modules.ipynb"
   ]
  },
  {
   "cell_type": "markdown",
   "metadata": {},
   "source": [
    "Optimizer is implemented for you. "
   ]
  },
  {
   "cell_type": "code",
   "execution_count": 3,
   "metadata": {
    "ExecuteTime": {
     "end_time": "2019-03-07T05:42:28.048985Z",
     "start_time": "2019-03-07T05:42:28.040826Z"
    }
   },
   "outputs": [],
   "source": [
    "def sgd_momentum(x, dx, config, state):\n",
    "    \"\"\"\n",
    "        This is a very ugly implementation of sgd with momentum \n",
    "        just to show an example how to store old grad in state.\n",
    "        \n",
    "        config:\n",
    "            - momentum\n",
    "            - learning_rate\n",
    "        state:\n",
    "            - old_grad\n",
    "    \"\"\"\n",
    "    \n",
    "    # x and dx have complex structure, old dx will be stored in a simpler one\n",
    "    state.setdefault('old_grad', {})\n",
    "    \n",
    "    i = 0 \n",
    "    for cur_layer_x, cur_layer_dx in zip(x, dx):\n",
    "        for cur_x, cur_dx in zip(cur_layer_x, cur_layer_dx):\n",
    "            \n",
    "            cur_old_grad = state['old_grad'].setdefault(i, np.zeros_like(\n",
    "                cur_dx\n",
    "            ))\n",
    "            \n",
    "            np.add(config['momentum'] * cur_old_grad,\n",
    "                   config['learning_rate'] * cur_dx,\n",
    "                   out=cur_old_grad)\n",
    "            cur_x -= cur_old_grad\n",
    "            i += 1     "
   ]
  },
  {
   "cell_type": "markdown",
   "metadata": {},
   "source": [
    "# Toy example"
   ]
  },
  {
   "cell_type": "markdown",
   "metadata": {},
   "source": [
    "Use this example to debug your code, start with logistic regression and then test other layers. You do not need to change anything here. This code is provided for you to test the layers. Also it is easy to use this code in MNIST task."
   ]
  },
  {
   "cell_type": "code",
   "execution_count": 4,
   "metadata": {
    "ExecuteTime": {
     "end_time": "2019-03-07T05:42:43.206722Z",
     "start_time": "2019-03-07T05:42:42.957594Z"
    },
    "scrolled": false
   },
   "outputs": [
    {
     "data": {
      "text/plain": [
       "<matplotlib.collections.PathCollection at 0x10cd64518>"
      ]
     },
     "execution_count": 4,
     "metadata": {},
     "output_type": "execute_result"
    },
    {
     "data": {
      "image/png": "[encoded data removed]",
      "text/plain": [
       "<Figure size 432x288 with 1 Axes>"
      ]
     },
     "metadata": {
      "needs_background": "light"
     },
     "output_type": "display_data"
    }
   ],
   "source": [
    "# Generate some data\n",
    "N = 500\n",
    "\n",
    "X1 = np.random.randn(N,2) + np.array([2,2])\n",
    "X2 = np.random.randn(N,2) + np.array([-2,-2])\n",
    "\n",
    "Y = np.concatenate([np.ones(N),np.zeros(N)])[:,None]\n",
    "Y = np.hstack([Y, 1-Y])\n",
    "\n",
    "X = np.vstack([X1,X2])\n",
    "plt.scatter(X[:,0],X[:,1], c = Y[:,0], edgecolors= 'none')"
   ]
  },
  {
   "cell_type": "markdown",
   "metadata": {},
   "source": [
    "**Logistic regression** is already implented for you."
   ]
  },
  {
   "cell_type": "code",
   "execution_count": 5,
   "metadata": {
    "ExecuteTime": {
     "end_time": "2019-03-07T05:44:29.060039Z",
     "start_time": "2019-03-07T05:44:29.002663Z"
    }
   },
   "outputs": [],
   "source": [
    "%run homework_modules.ipynb"
   ]
  },
  {
   "cell_type": "code",
   "execution_count": 10,
   "metadata": {
    "ExecuteTime": {
     "end_time": "2019-03-07T05:44:48.968384Z",
     "start_time": "2019-03-07T05:44:48.963387Z"
    }
   },
   "outputs": [
    {
     "name": "stdout",
     "output_type": "stream",
     "text": [
      "Linear 2 -> 2\n",
      "SoftMax\n",
      "\n"
     ]
    }
   ],
   "source": [
    "net = Sequential()\n",
    "net.add(Linear(2, 2))\n",
    "net.add(SoftMax())\n",
    "\n",
    "criterion = ClassNLLCriterionUnstable()\n",
    "print(net)"
   ]
  },
  {
   "cell_type": "markdown",
   "metadata": {},
   "source": [
    "Start with batch_size = 1000 to make sure every step lowers the loss."
   ]
  },
  {
   "cell_type": "code",
   "execution_count": 11,
   "metadata": {
    "ExecuteTime": {
     "end_time": "2019-03-07T05:48:05.808275Z",
     "start_time": "2019-03-07T05:48:05.804112Z"
    }
   },
   "outputs": [],
   "source": [
    "# Iptimizer params\n",
    "optimizer_config = {'learning_rate' : 1e-1, 'momentum': 0.9}\n",
    "optimizer_state = {}\n",
    "\n",
    "# Looping params\n",
    "n_epoch = 20\n",
    "batch_size = 1000\n"
   ]
  },
  {
   "cell_type": "code",
   "execution_count": 14,
   "metadata": {
    "ExecuteTime": {
     "end_time": "2019-03-07T05:48:06.051668Z",
     "start_time": "2019-03-07T05:48:06.045657Z"
    }
   },
   "outputs": [],
   "source": [
    "# batch generator\n",
    "def get_batches(dataset, batch_size):\n",
    "    X, Y = dataset\n",
    "    n_samples = X.shape[0]\n",
    "        \n",
    "    # Shuffle at the start of epoch\n",
    "    indices = np.arange(n_samples)\n",
    "    np.random.shuffle(indices)\n",
    "    \n",
    "    for start in range(0, n_samples, batch_size):\n",
    "        end = min(start + batch_size, n_samples)\n",
    "        batch_idx = indices[start:end]\n",
    "        yield X[batch_idx], Y[batch_idx]\n",
    "        "
   ]
  },
  {
   "cell_type": "markdown",
   "metadata": {},
   "source": [
    "### Train"
   ]
  },
  {
   "cell_type": "markdown",
   "metadata": {},
   "source": [
    "Basic training loop. Examine it."
   ]
  },
  {
   "cell_type": "code",
   "execution_count": 13,
   "metadata": {
    "ExecuteTime": {
     "end_time": "2019-03-07T05:48:09.162353Z",
     "start_time": "2019-03-07T05:48:08.992900Z"
    },
    "scrolled": false
   },
   "outputs": [
    {
     "data": {
      "image/png": "[encoded data removed]",
      "text/plain": [
       "<Figure size 576x432 with 1 Axes>"
      ]
     },
     "metadata": {
      "needs_background": "light"
     },
     "output_type": "display_data"
    },
    {
     "name": "stdout",
     "output_type": "stream",
     "text": [
      "Current loss: 0.003151\n"
     ]
    }
   ],
   "source": [
    "loss_history = []\n",
    "\n",
    "for i in range(n_epoch):\n",
    "    for x_batch, y_batch in get_batches((X, Y), batch_size):\n",
    "        net.zeroGradParameters()\n",
    "        \n",
    "        # Forward\n",
    "        predictions = net.forward(x_batch)\n",
    "        loss = criterion.forward(predictions, y_batch)\n",
    "    \n",
    "        # Backward\n",
    "        dp = criterion.backward(predictions, y_batch)\n",
    "        net.backward(x_batch, dp)\n",
    "        \n",
    "        # Update weights\n",
    "        sgd_momentum(net.getParameters(), \n",
    "                     net.getGradParameters(), \n",
    "                     optimizer_config,\n",
    "                     optimizer_state)      \n",
    "        \n",
    "        loss_history.append(loss)\n",
    "\n",
    "    # Visualize\n",
    "    display.clear_output(wait=True)\n",
    "    plt.figure(figsize=(8, 6))\n",
    "        \n",
    "    plt.title(\"Training loss\")\n",
    "    plt.xlabel(\"#iteration\")\n",
    "    plt.ylabel(\"loss\")\n",
    "    plt.plot(loss_history, 'b')\n",
    "    plt.show()\n",
    "    print('Current loss: %f'%loss) "
   ]
  },
  {
   "cell_type": "markdown",
   "metadata": {},
   "source": [
    "Try **something deeper** in the cell below, for example fully-connected network consisting of Linear -> ReLU -> Linear -> LogSoftMax."
   ]
  },
  {
   "cell_type": "code",
   "execution_count": 14,
   "metadata": {},
   "outputs": [],
   "source": [
    "# Iptimizer params\n",
    "optimizer_config = {'learning_rate' : 1e-1, 'momentum': 0.9}\n",
    "optimizer_state = {}\n",
    "\n",
    "# Looping params\n",
    "n_epoch = 25\n",
    "batch_size = 1000"
   ]
  },
  {
   "cell_type": "code",
   "execution_count": 15,
   "metadata": {
    "ExecuteTime": {
     "end_time": "2019-03-07T05:47:35.582751Z",
     "start_time": "2019-03-07T05:47:35.577818Z"
    }
   },
   "outputs": [
    {
     "name": "stdout",
     "output_type": "stream",
     "text": [
      "Linear 2 -> 2\n",
      "ReLU\n",
      "Linear 2 -> 2\n",
      "LogSoftMax\n",
      "\n"
     ]
    }
   ],
   "source": [
    "net = Sequential()\n",
    "#######\n",
    "# Add modules here\n",
    "net.add(Linear(2, 2))\n",
    "net.add(ReLU())\n",
    "net.add(Linear(2, 2))\n",
    "net.add(LogSoftMax())\n",
    "criterion = ClassNLLCriterion()\n",
    "#######\n",
    "print(net)"
   ]
  },
  {
   "cell_type": "code",
   "execution_count": 16,
   "metadata": {},
   "outputs": [
    {
     "data": {
      "image/png": "[encoded data removed]",
      "text/plain": [
       "<Figure size 576x432 with 1 Axes>"
      ]
     },
     "metadata": {
      "needs_background": "light"
     },
     "output_type": "display_data"
    },
    {
     "name": "stdout",
     "output_type": "stream",
     "text": [
      "Current loss: 0.028671\n"
     ]
    }
   ],
   "source": [
    "loss_history = []\n",
    "\n",
    "for i in range(n_epoch):\n",
    "    for x_batch, y_batch in get_batches((X, Y), batch_size):\n",
    "        net.zeroGradParameters()\n",
    "        \n",
    "        # Forward\n",
    "        predictions = net.forward(x_batch)\n",
    "        loss = criterion.forward(predictions, y_batch)\n",
    "    \n",
    "        # Backward\n",
    "        dp = criterion.backward(predictions, y_batch)\n",
    "        net.backward(x_batch, dp)\n",
    "        \n",
    "        # Update weights\n",
    "        sgd_momentum(net.getParameters(), \n",
    "                     net.getGradParameters(), \n",
    "                     optimizer_config,\n",
    "                     optimizer_state)      \n",
    "        \n",
    "        loss_history.append(loss)\n",
    "\n",
    "    # Visualize\n",
    "    display.clear_output(wait=True)\n",
    "    plt.figure(figsize=(8, 6))\n",
    "        \n",
    "    plt.title(\"Training loss\")\n",
    "    plt.xlabel(\"#iteration\")\n",
    "    plt.ylabel(\"loss\")\n",
    "    plt.plot(loss_history, 'b')\n",
    "    plt.show()\n",
    "    print('Current loss: %f'%loss) "
   ]
  },
  {
   "cell_type": "markdown",
   "metadata": {},
   "source": [
    "#### Task 1: Loss stability\n",
    "\n",
    "In the cell below print the integer which answers the question: \"during which epoch training loss becomes more or less stable around minimum?\", for example: 3. Write your answer in the task 1 of the google form for this homework."
   ]
  },
  {
   "cell_type": "markdown",
   "metadata": {
    "ExecuteTime": {
     "end_time": "2019-03-07T06:08:25.239439Z",
     "start_time": "2019-03-07T06:08:25.235737Z"
    }
   },
   "source": [
    "# Your answer goes here. ################################################\n",
    "15"
   ]
  },
  {
   "cell_type": "markdown",
   "metadata": {},
   "source": [
    "# Digit classification "
   ]
  },
  {
   "cell_type": "markdown",
   "metadata": {},
   "source": [
    "We are using [MNIST](http://yann.lecun.com/exdb/mnist/) as our dataset. Lets start with [cool visualization](http://scs.ryerson.ca/~aharley/vis/). The most beautiful demo is the second one, if you are not familiar with convolutions you can return to it in several lectures. "
   ]
  },
  {
   "cell_type": "code",
   "execution_count": 4,
   "metadata": {
    "ExecuteTime": {
     "end_time": "2019-03-07T05:48:56.293545Z",
     "start_time": "2019-03-07T05:48:56.290117Z"
    }
   },
   "outputs": [],
   "source": [
    "import ssl\n",
    "\n",
    "ssl._create_default_https_context = ssl._create_unverified_context"
   ]
  },
  {
   "cell_type": "code",
   "execution_count": 5,
   "metadata": {
    "ExecuteTime": {
     "end_time": "2019-03-07T05:48:57.733167Z",
     "start_time": "2019-03-07T05:48:56.526070Z"
    }
   },
   "outputs": [],
   "source": [
    "import os\n",
    "from sklearn.datasets import fetch_openml\n",
    "\n",
    "# Fetch MNIST dataset and create a local copy.\n",
    "if os.path.exists('mnist.npz'):\n",
    "    with np.load('mnist.npz', 'r') as data:\n",
    "        X = data['X']\n",
    "        y = data['y']\n",
    "else:\n",
    "    mnist = mnist = fetch_openml('mnist_784')\n",
    "    X, y = mnist.data / 255.0, mnist.target\n",
    "    np.savez('mnist.npz', X=X, y=y)"
   ]
  },
  {
   "cell_type": "code",
   "execution_count": 6,
   "metadata": {},
   "outputs": [
    {
     "data": {
      "text/plain": [
       "((70000, 784), (70000,))"
      ]
     },
     "execution_count": 6,
     "metadata": {},
     "output_type": "execute_result"
    }
   ],
   "source": [
    "X.shape, y.shape"
   ]
  },
  {
   "cell_type": "code",
   "execution_count": 7,
   "metadata": {},
   "outputs": [
    {
     "name": "stdout",
     "output_type": "stream",
     "text": [
      "defaultdict(<class 'int'>, {'1': 1, '6': 6, '0': 0, '2': 2, '9': 9, '5': 5, '7': 7, '4': 4, '3': 3, '8': 8})\n"
     ]
    }
   ],
   "source": [
    "from collections import defaultdict\n",
    "\n",
    "label_to_idx = defaultdict(int)\n",
    "\n",
    "for label in set(y):\n",
    "    label_to_idx[label] = int(label)\n",
    "    \n",
    "print(label_to_idx)"
   ]
  },
  {
   "cell_type": "markdown",
   "metadata": {},
   "source": [
    "One-hot encode the labels first."
   ]
  },
  {
   "cell_type": "code",
   "execution_count": 8,
   "metadata": {
    "ExecuteTime": {
     "end_time": "2019-03-07T05:49:00.480587Z",
     "start_time": "2019-03-07T05:49:00.445216Z"
    }
   },
   "outputs": [
    {
     "name": "stderr",
     "output_type": "stream",
     "text": [
      "100%|██████████| 70000/70000 [00:00<00:00, 907911.35it/s]\n"
     ]
    }
   ],
   "source": [
    "from tqdm import tqdm\n",
    "\n",
    "# Your code goes here. ################################################\n",
    "Y = np.zeros((y.shape[0], 10))\n",
    "for i in tqdm(range(y.shape[0])):\n",
    "    idx = label_to_idx[y[i]]\n",
    "    Y[i, idx] = 1"
   ]
  },
  {
   "cell_type": "code",
   "execution_count": 9,
   "metadata": {},
   "outputs": [
    {
     "data": {
      "text/plain": [
       "array([[0., 0., 0., 0., 0., 1., 0., 0., 0., 0.],\n",
       "       [1., 0., 0., 0., 0., 0., 0., 0., 0., 0.],\n",
       "       [0., 0., 0., 0., 1., 0., 0., 0., 0., 0.],\n",
       "       [0., 1., 0., 0., 0., 0., 0., 0., 0., 0.],\n",
       "       [0., 0., 0., 0., 0., 0., 0., 0., 0., 1.],\n",
       "       [0., 0., 1., 0., 0., 0., 0., 0., 0., 0.],\n",
       "       [0., 1., 0., 0., 0., 0., 0., 0., 0., 0.],\n",
       "       [0., 0., 0., 1., 0., 0., 0., 0., 0., 0.],\n",
       "       [0., 1., 0., 0., 0., 0., 0., 0., 0., 0.],\n",
       "       [0., 0., 0., 0., 1., 0., 0., 0., 0., 0.]])"
      ]
     },
     "execution_count": 9,
     "metadata": {},
     "output_type": "execute_result"
    }
   ],
   "source": [
    "Y[:10,:]"
   ]
  },
  {
   "cell_type": "markdown",
   "metadata": {},
   "source": [
    "- **Compare** `ReLU`, `ELU`, `LeakyReLU`, `SoftPlus` activation functions. \n",
    "You would better pick the best optimizer params for each of them, but it is overkill for now. Use an architecture of your choice for the comparison.\n",
    "- Hint: logloss for MNIST should be around 0.5. "
   ]
  },
  {
   "cell_type": "code",
   "execution_count": 23,
   "metadata": {
    "ExecuteTime": {
     "end_time": "2019-03-06T22:25:58.408493Z",
     "start_time": "2019-03-06T22:25:58.403590Z"
    }
   },
   "outputs": [],
   "source": [
    "optimizer_config = {'learning_rate' : 1e-1, 'momentum': 0.9}\n",
    "optimizer_state = {}\n",
    "\n",
    "# Looping params\n",
    "n_epoch = 20\n",
    "batch_size = 128"
   ]
  },
  {
   "cell_type": "markdown",
   "metadata": {},
   "source": [
    "### ReLU"
   ]
  },
  {
   "cell_type": "code",
   "execution_count": 24,
   "metadata": {
    "ExecuteTime": {
     "end_time": "2019-03-06T22:27:00.897558Z",
     "start_time": "2019-03-06T22:25:58.413157Z"
    }
   },
   "outputs": [
    {
     "data": {
      "image/png": "[encoded data removed]",
      "text/plain": [
       "<Figure size 576x432 with 1 Axes>"
      ]
     },
     "metadata": {
      "needs_background": "light"
     },
     "output_type": "display_data"
    },
    {
     "name": "stderr",
     "output_type": "stream",
     "text": [
      "100%|██████████| 20/20 [00:54<00:00,  2.68s/it]"
     ]
    },
    {
     "name": "stdout",
     "output_type": "stream",
     "text": [
      "Current loss: 0.020821\n",
      "Time: 54.35902690887451\n",
      "ReLU logloss: [0.046250548758528576, 0.04818180601808964, 0.03749935672483531, 0.0032821322540208977, 0.02082143940057784]\n"
     ]
    },
    {
     "name": "stderr",
     "output_type": "stream",
     "text": [
      "\n"
     ]
    }
   ],
   "source": [
    "criterion = ClassNLLCriterion()\n",
    "\n",
    "net = Sequential()\n",
    "net.add(Linear(784, 50))\n",
    "net.add(ReLU())\n",
    "net.add(Linear(50, 10))\n",
    "net.add(LogSoftMax())\n",
    "\n",
    "loss_relu = []\n",
    "\n",
    "t = time()\n",
    "for i in tqdm(range(n_epoch)):\n",
    "    for x_batch, y_batch in get_batches((X,Y) , batch_size):\n",
    "        net.zeroGradParameters()\n",
    "        predictions = net.forward(x_batch)\n",
    "        loss = criterion.forward(predictions, y_batch)\n",
    "        dp = criterion.backward(predictions, y_batch)\n",
    "        net.backward(x_batch, dp)\n",
    "        sgd_momentum(net.getParameters(), \n",
    "                     net.getGradParameters(), \n",
    "                     optimizer_config,\n",
    "                     optimizer_state)\n",
    "    loss_relu.append(loss)\n",
    "    \n",
    "    # Visualize\n",
    "    display.clear_output(wait=True)\n",
    "    plt.figure(figsize=(8, 6))\n",
    "        \n",
    "    plt.title(\"Training loss\")\n",
    "    plt.xlabel(\"#iteration\")\n",
    "    plt.ylabel(\"loss\")\n",
    "    plt.plot(loss_relu, 'b')\n",
    "    plt.show()\n",
    "    print('Current loss: %f'%loss)\n",
    "    \n",
    "print('Time: {}'.format(time() - t))\n",
    "print('ReLU logloss: {}'.format(loss_relu[-5:]))"
   ]
  },
  {
   "cell_type": "markdown",
   "metadata": {},
   "source": [
    "### ELU"
   ]
  },
  {
   "cell_type": "code",
   "execution_count": 25,
   "metadata": {
    "ExecuteTime": {
     "end_time": "2019-03-06T22:28:05.137045Z",
     "start_time": "2019-03-06T22:27:00.900391Z"
    }
   },
   "outputs": [
    {
     "data": {
      "image/png": "[encoded data removed]",
      "text/plain": [
       "<Figure size 576x432 with 1 Axes>"
      ]
     },
     "metadata": {
      "needs_background": "light"
     },
     "output_type": "display_data"
    },
    {
     "name": "stderr",
     "output_type": "stream",
     "text": [
      "100%|██████████| 20/20 [00:53<00:00,  2.83s/it]"
     ]
    },
    {
     "name": "stdout",
     "output_type": "stream",
     "text": [
      "Current loss: 0.008491\n",
      "Time: 53.69074201583862\n",
      "ELU logloss: [0.0077661567169942155, 0.03027185080738037, 0.02537802323812638, 0.011905656068066987, 0.00849054988138019]\n"
     ]
    },
    {
     "name": "stderr",
     "output_type": "stream",
     "text": [
      "\n"
     ]
    }
   ],
   "source": [
    "criterion = ClassNLLCriterion()\n",
    "\n",
    "net = Sequential()\n",
    "net.add(Linear(784, 50))\n",
    "net.add(ELU())\n",
    "net.add(Linear(50, 10))\n",
    "net.add(LogSoftMax())\n",
    "\n",
    "loss_elu = []\n",
    "t = time()\n",
    "\n",
    "for i in tqdm(range(n_epoch)):\n",
    "    for x_batch, y_batch in get_batches( (X,Y) , batch_size):\n",
    "        net.zeroGradParameters()        \n",
    "        predictions = net.forward(x_batch)        \n",
    "        loss = criterion.forward(predictions, y_batch)        \n",
    "        dp = criterion.backward(predictions, y_batch)\n",
    "        net.backward(x_batch, dp)\n",
    "        sgd_momentum(net.getParameters(), \n",
    "                     net.getGradParameters(), \n",
    "                     optimizer_config,\n",
    "                     optimizer_state)      \n",
    "    loss_elu.append(loss)\n",
    "    \n",
    "    # Visualize\n",
    "    display.clear_output(wait=True)\n",
    "    plt.figure(figsize=(8, 6))\n",
    "        \n",
    "    plt.title(\"Training loss\")\n",
    "    plt.xlabel(\"#iteration\")\n",
    "    plt.ylabel(\"loss\")\n",
    "    plt.plot(loss_elu, 'b')\n",
    "    plt.show()\n",
    "    print('Current loss: %f'%loss)\n",
    "        \n",
    "print('Time: {}'.format(time() - t))\n",
    "print('ELU logloss: {}'.format(loss_elu[-5:])) "
   ]
  },
  {
   "cell_type": "markdown",
   "metadata": {},
   "source": [
    "### LeakyReLU"
   ]
  },
  {
   "cell_type": "code",
   "execution_count": 26,
   "metadata": {
    "ExecuteTime": {
     "end_time": "2019-03-06T22:29:09.928878Z",
     "start_time": "2019-03-06T22:28:05.139838Z"
    }
   },
   "outputs": [
    {
     "data": {
      "image/png": "[encoded data removed]",
      "text/plain": [
       "<Figure size 576x432 with 1 Axes>"
      ]
     },
     "metadata": {
      "needs_background": "light"
     },
     "output_type": "display_data"
    },
    {
     "name": "stderr",
     "output_type": "stream",
     "text": [
      "100%|██████████| 20/20 [00:51<00:00,  2.55s/it]"
     ]
    },
    {
     "name": "stdout",
     "output_type": "stream",
     "text": [
      "Current loss: 0.014025\n",
      "Time: 51.74971604347229\n",
      "ELU logloss: [0.045465216065234626, 0.0768161458148531, 0.060328757540484765, 0.03444259032367677, 0.014025472883615919]\n"
     ]
    },
    {
     "name": "stderr",
     "output_type": "stream",
     "text": [
      "\n"
     ]
    }
   ],
   "source": [
    "criterion = ClassNLLCriterion()\n",
    "\n",
    "net = Sequential()\n",
    "net.add(Linear(784, 50))\n",
    "net.add(LeakyReLU(0.02))\n",
    "net.add(Linear(50, 10))\n",
    "net.add(LogSoftMax())\n",
    "\n",
    "loss_leakyRelu = []\n",
    "t = time()\n",
    "\n",
    "for i in tqdm(range(n_epoch)):\n",
    "    for x_batch, y_batch in get_batches( (X,Y) , batch_size):\n",
    "        net.zeroGradParameters()        \n",
    "        predictions = net.forward(x_batch)        \n",
    "        loss = criterion.forward(predictions, y_batch)        \n",
    "        dp = criterion.backward(predictions, y_batch)\n",
    "        net.backward(x_batch, dp)\n",
    "        sgd_momentum(net.getParameters(), \n",
    "                     net.getGradParameters(), \n",
    "                     optimizer_config,\n",
    "                     optimizer_state)      \n",
    "    loss_leakyRelu.append(loss)\n",
    "    \n",
    "    # Visualize\n",
    "    display.clear_output(wait=True)\n",
    "    plt.figure(figsize=(8, 6))\n",
    "        \n",
    "    plt.title(\"Training loss\")\n",
    "    plt.xlabel(\"#iteration\")\n",
    "    plt.ylabel(\"loss\")\n",
    "    plt.plot(loss_leakyRelu, 'b')\n",
    "    plt.show()\n",
    "    print('Current loss: %f'%loss)\n",
    "        \n",
    "print('Time: {}'.format(time() - t))\n",
    "print('ELU logloss: {}'.format(loss_leakyRelu[-5:])) "
   ]
  },
  {
   "cell_type": "code",
   "execution_count": 27,
   "metadata": {
    "ExecuteTime": {
     "end_time": "2019-03-06T22:29:10.216340Z",
     "start_time": "2019-03-06T22:29:09.940014Z"
    }
   },
   "outputs": [
    {
     "data": {
      "image/png": "[encoded data removed]",
      "text/plain": [
       "<Figure size 432x288 with 1 Axes>"
      ]
     },
     "metadata": {
      "needs_background": "light"
     },
     "output_type": "display_data"
    }
   ],
   "source": [
    "plt.plot(loss_relu)\n",
    "plt.plot(loss_elu)\n",
    "plt.plot(loss_leakyRelu)\n",
    "plt.legend(('ReLU', 'ELU', 'LeakyReLU'))\n",
    "plt.show()"
   ]
  },
  {
   "cell_type": "markdown",
   "metadata": {},
   "source": [
    "#### Task 2: ReLU, ELU, LeakyReLu\n",
    "\n",
    "Print here all the activation functions you checked in the order of increasing performance, for example: elu, leaky_relu, relu (mind the format of the answer). Write your answer in the **task 2** of the google form for this homework."
   ]
  },
  {
   "cell_type": "markdown",
   "metadata": {},
   "source": [
    "# Your answer goes here. ################################################\n",
    "relu, leaky_relu, elu"
   ]
  },
  {
   "cell_type": "markdown",
   "metadata": {},
   "source": [
    "**Finally**, use all your knowledge to build a super cool model on this dataset, do not forget to split dataset into train and validation."
   ]
  },
  {
   "cell_type": "code",
   "execution_count": 10,
   "metadata": {
    "ExecuteTime": {
     "end_time": "2019-03-07T05:51:25.408196Z",
     "start_time": "2019-03-07T05:51:23.592780Z"
    }
   },
   "outputs": [],
   "source": [
    "from sklearn.model_selection import train_test_split\n",
    "from sklearn.metrics import accuracy_score\n",
    "X_train, X_test, y_train, y_test = train_test_split(X, Y, test_size=0.33)"
   ]
  },
  {
   "cell_type": "code",
   "execution_count": 11,
   "metadata": {
    "ExecuteTime": {
     "end_time": "2019-03-07T05:51:25.453461Z",
     "start_time": "2019-03-07T05:51:25.449754Z"
    }
   },
   "outputs": [
    {
     "name": "stdout",
     "output_type": "stream",
     "text": [
      "(46900, 784) (46900, 10)\n",
      "(23100, 784) (23100, 10)\n"
     ]
    }
   ],
   "source": [
    "print(X_train.shape, y_train.shape)\n",
    "print(X_test.shape, y_test.shape)"
   ]
  },
  {
   "cell_type": "markdown",
   "metadata": {},
   "source": [
    "Define your network in the cell below."
   ]
  },
  {
   "cell_type": "code",
   "execution_count": 29,
   "metadata": {
    "ExecuteTime": {
     "end_time": "2019-03-06T22:29:12.103641Z",
     "start_time": "2019-03-06T22:29:12.093409Z"
    }
   },
   "outputs": [],
   "source": [
    "criterion = ClassNLLCriterion()\n",
    "\n",
    "net = Sequential()\n",
    "####### \n",
    "# Add modules here\n",
    "net = Sequential()\n",
    "net.add(Linear(784, 196))\n",
    "net.add(ELU())\n",
    "net.add(Linear(196, 10))\n",
    "net.add(LogSoftMax())\n",
    "#######\n",
    "\n",
    "optimizer_config = {'learning_rate' : 1e-1, 'momentum': 0.9}\n",
    "optimizer_state = {}\n",
    "\n",
    "n_epoch = 20\n",
    "batch_size = 128\n",
    "\n",
    "loss_history_train, loss_history_val = [], []"
   ]
  },
  {
   "cell_type": "code",
   "execution_count": 30,
   "metadata": {
    "ExecuteTime": {
     "end_time": "2019-03-06T22:29:51.330745Z",
     "start_time": "2019-03-06T22:29:12.107614Z"
    }
   },
   "outputs": [
    {
     "data": {
      "image/png": "[encoded data removed]",
      "text/plain": [
       "<Figure size 576x432 with 1 Axes>"
      ]
     },
     "metadata": {
      "needs_background": "light"
     },
     "output_type": "display_data"
    },
    {
     "name": "stdout",
     "output_type": "stream",
     "text": [
      "Current loss train: 0.002603\n",
      "Current loss test:  0.090407\n",
      "train loss: 0.3552, val loss: 0.2147, train acc: 0.8979, val acc: 0.9340, epoch: 19\n",
      "train loss: 0.1584, val loss: 0.1392, train acc: 0.9526, val acc: 0.9578, epoch: 19\n",
      "train loss: 0.1137, val loss: 0.1179, train acc: 0.9658, val acc: 0.9636, epoch: 19\n",
      "train loss: 0.0881, val loss: 0.1233, train acc: 0.9727, val acc: 0.9620, epoch: 19\n",
      "train loss: 0.0709, val loss: 0.0991, train acc: 0.9779, val acc: 0.9710, epoch: 19\n",
      "train loss: 0.0554, val loss: 0.0919, train acc: 0.9823, val acc: 0.9714, epoch: 19\n",
      "train loss: 0.0452, val loss: 0.0895, train acc: 0.9858, val acc: 0.9740, epoch: 19\n",
      "train loss: 0.0377, val loss: 0.0928, train acc: 0.9883, val acc: 0.9723, epoch: 19\n",
      "train loss: 0.0308, val loss: 0.0874, train acc: 0.9902, val acc: 0.9746, epoch: 19\n",
      "train loss: 0.0253, val loss: 0.0894, train acc: 0.9925, val acc: 0.9749, epoch: 19\n",
      "train loss: 0.0207, val loss: 0.0875, train acc: 0.9936, val acc: 0.9764, epoch: 19\n",
      "train loss: 0.0153, val loss: 0.0884, train acc: 0.9959, val acc: 0.9766, epoch: 19\n",
      "train loss: 0.0124, val loss: 0.0886, train acc: 0.9967, val acc: 0.9767, epoch: 19\n",
      "train loss: 0.0108, val loss: 0.0900, train acc: 0.9971, val acc: 0.9760, epoch: 19\n",
      "train loss: 0.0081, val loss: 0.0914, train acc: 0.9984, val acc: 0.9767, epoch: 19\n",
      "train loss: 0.0061, val loss: 0.0894, train acc: 0.9990, val acc: 0.9781, epoch: 19\n",
      "train loss: 0.0046, val loss: 0.0899, train acc: 0.9994, val acc: 0.9774, epoch: 19\n",
      "train loss: 0.0038, val loss: 0.0906, train acc: 0.9996, val acc: 0.9780, epoch: 19\n",
      "train loss: 0.0032, val loss: 0.0942, train acc: 0.9997, val acc: 0.9774, epoch: 19\n",
      "train loss: 0.0026, val loss: 0.0904, train acc: 0.9998, val acc: 0.9790, epoch: 19\n"
     ]
    }
   ],
   "source": [
    "loss_train = []\n",
    "loss_val = []\n",
    "acc_train = []\n",
    "acc_val = []\n",
    "\n",
    "for i in range(n_epoch):\n",
    "    train_loss = 0\n",
    "    train_acc = 0\n",
    "    train_batches = 0\n",
    "    for x_batch, y_batch in get_batches((X_train,y_train) , batch_size):\n",
    "        \n",
    "        net.zeroGradParameters()  \n",
    "        predictions = net.forward(x_batch)\n",
    "        train_loss += criterion.forward(predictions, y_batch)\n",
    "        y_pred = [np.argmax(pred) for pred in predictions]\n",
    "        y_batch_test = [np.argmax(batch_i) for batch_i in y_batch]\n",
    "        train_acc += accuracy_score(y_pred, y_batch_test)\n",
    "        train_batches += 1\n",
    "        dp = criterion.backward(predictions, y_batch)\n",
    "        net.backward(x_batch, dp)\n",
    "        \n",
    "        sgd_momentum(net.getParameters(), \n",
    "                     net.getGradParameters(), \n",
    "                     optimizer_config,\n",
    "                     optimizer_state)      \n",
    "        \n",
    "    val_loss = 0\n",
    "    val_acc = 0\n",
    "    val_batches = 0\n",
    "    for x_batch, y_batch in get_batches( (X_test, y_test) , batch_size):\n",
    "        predictions = net.forward(x_batch)\n",
    "        val_loss += criterion.forward(predictions, y_batch)\n",
    "        y_pred = [np.argmax(pred) for pred in predictions]\n",
    "        y_batch_test = [np.argmax(batch_i) for batch_i in y_batch]\n",
    "        val_acc += accuracy_score(y_pred, y_batch_test)\n",
    "        val_batches += 1\n",
    "    \n",
    "    loss_train.append(train_loss / train_batches)\n",
    "    loss_val.append(val_loss / val_batches)\n",
    "    acc_train.append(train_acc / train_batches)\n",
    "    acc_val.append(val_acc / val_batches)\n",
    "    \n",
    "    # Visualize\n",
    "    display.clear_output(wait=True)\n",
    "    plt.figure(figsize=(8, 6))\n",
    "        \n",
    "    plt.title(\"Training loss\")\n",
    "    plt.xlabel(\"#iteration\")\n",
    "    plt.ylabel(\"loss\")\n",
    "    plt.plot(loss_train, 'b')\n",
    "    plt.plot(loss_val, 'r')\n",
    "    plt.show()\n",
    "    print('Current loss train: %f' % loss_train[-1])\n",
    "    print('Current loss test:  %f' % loss_val[-1])\n",
    "    \n",
    "for train_loss, val_loss, train_acc, val_acc in zip(loss_train, loss_val, acc_train, acc_val):\n",
    "    print(\"train loss: {:.4f}, val loss: {:.4f}, train acc: {:.4f}, val acc: {:.4f}, epoch: {}\".format(\n",
    "        train_loss, val_loss, train_acc, val_acc, i))"
   ]
  },
  {
   "cell_type": "markdown",
   "metadata": {},
   "source": [
    "Current loss train: 0.002516\n",
    "Current loss test:  0.093991"
   ]
  },
  {
   "cell_type": "markdown",
   "metadata": {},
   "source": [
    "#### Task 3: Validation accuracy & Task 4: Validation loss\n",
    "\n",
    "Print here your **validation accuracy** (ex: 0.75) and **validation loss** (ex: 0.1), both rounded up up to 2-nd digit after decimal point. Write your answers in the **tasks 3 (validation accuracy) and 4 (validation loss)** of the google form for this homework."
   ]
  },
  {
   "cell_type": "markdown",
   "metadata": {
    "ExecuteTime": {
     "end_time": "2019-03-07T07:58:26.165430Z",
     "start_time": "2019-03-07T07:58:26.162267Z"
    }
   },
   "source": [
    "# Your answer goes here. ################################################\n",
    "0.97 1.49"
   ]
  },
  {
   "cell_type": "code",
   "execution_count": null,
   "metadata": {},
   "outputs": [],
   "source": []
  }
 ],
 "metadata": {
  "kernelspec": {
   "display_name": "dmia_dl_2019_spring",
   "language": "python",
   "name": "dmia_dl_2019_spring"
  },
  "language_info": {
   "codemirror_mode": {
    "name": "ipython",
    "version": 3
   },
   "file_extension": ".py",
   "mimetype": "text/x-python",
   "name": "python",
   "nbconvert_exporter": "python",
   "pygments_lexer": "ipython3",
   "version": "3.6.6"
  },
  "varInspector": {
   "cols": {
    "lenName": 16,
    "lenType": 16,
    "lenVar": 40
   },
   "kernels_config": {
    "python": {
     "delete_cmd_postfix": "",
     "delete_cmd_prefix": "del ",
     "library": "var_list.py",
     "varRefreshCmd": "print(var_dic_list())"
    },
    "r": {
     "delete_cmd_postfix": ") ",
     "delete_cmd_prefix": "rm(",
     "library": "var_list.r",
     "varRefreshCmd": "cat(var_dic_list()) "
    }
   },
   "types_to_exclude": [
    "module",
    "function",
    "builtin_function_or_method",
    "instance",
    "_Feature"
   ],
   "window_display": false
  }
 },
 "nbformat": 4,
 "nbformat_minor": 2
}
